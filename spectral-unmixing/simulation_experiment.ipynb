{
 "cells": [
  {
   "cell_type": "markdown",
   "id": "565c3c0e-bfc3-4a6a-9418-428f3cf8671f",
   "metadata": {},
   "source": [
    "# Import Libraries needed to run notebook"
   ]
  },
  {
   "cell_type": "code",
   "execution_count": 1,
   "id": "a2a2adef-ffb4-45bd-9140-cff9c378f39a",
   "metadata": {},
   "outputs": [],
   "source": [
    "# Import libraries\n",
    "import pandas as pd\n",
    "import numpy as np\n",
    "import matplotlib.pyplot as plt\n",
    "import seaborn as sns\n",
    "from sklearn.linear_model import LinearRegression\n",
    "from sklearn.linear_model import Ridge\n",
    "from sklearn.metrics import mean_squared_error"
   ]
  },
  {
   "cell_type": "markdown",
   "id": "3f171637-ee47-428b-9118-3732000df9e2",
   "metadata": {},
   "source": [
    "# I. Create Simulated Dataset"
   ]
  },
  {
   "cell_type": "markdown",
   "id": "890b7658-187a-46fe-9a36-5eca136e12f8",
   "metadata": {},
   "source": [
    "### x values in spectrum (frequencies)"
   ]
  },
  {
   "cell_type": "code",
   "execution_count": 2,
   "id": "9b28e1ff-4a03-4899-817d-b7b1f36b8bc9",
   "metadata": {},
   "outputs": [
    {
     "data": {
      "text/plain": [
       "array([0.        , 0.09090909, 0.18181818, 0.27272727, 0.36363636,\n",
       "       0.45454545, 0.54545455, 0.63636364, 0.72727273, 0.81818182,\n",
       "       0.90909091, 1.        ])"
      ]
     },
     "execution_count": 2,
     "metadata": {},
     "output_type": "execute_result"
    }
   ],
   "source": [
    "# Define x values\n",
    "x = np.linspace(0, 1, 12)\n",
    "x"
   ]
  },
  {
   "cell_type": "markdown",
   "id": "3e01480d-8dfb-4f0d-a200-f79bcbf46ea7",
   "metadata": {},
   "source": [
    "### number of fractional components"
   ]
  },
  {
   "cell_type": "code",
   "execution_count": 3,
   "id": "e039c4f0-a839-4902-aeb8-50386dff3e14",
   "metadata": {},
   "outputs": [
    {
     "data": {
      "text/plain": [
       "array([0.  , 0.01, 0.02, 0.03, 0.04, 0.05, 0.06, 0.07, 0.08, 0.09, 0.1 ,\n",
       "       0.11, 0.12, 0.13, 0.14, 0.15, 0.16, 0.17, 0.18, 0.19, 0.2 , 0.21,\n",
       "       0.22, 0.23, 0.24, 0.25, 0.26, 0.27, 0.28, 0.29, 0.3 , 0.31, 0.32,\n",
       "       0.33, 0.34, 0.35, 0.36, 0.37, 0.38, 0.39, 0.4 , 0.41, 0.42, 0.43,\n",
       "       0.44, 0.45, 0.46, 0.47, 0.48, 0.49, 0.5 , 0.51, 0.52, 0.53, 0.54,\n",
       "       0.55, 0.56, 0.57, 0.58, 0.59, 0.6 , 0.61, 0.62, 0.63, 0.64, 0.65,\n",
       "       0.66, 0.67, 0.68, 0.69, 0.7 , 0.71, 0.72, 0.73, 0.74, 0.75, 0.76,\n",
       "       0.77, 0.78, 0.79, 0.8 , 0.81, 0.82, 0.83, 0.84, 0.85, 0.86, 0.87,\n",
       "       0.88, 0.89, 0.9 , 0.91, 0.92, 0.93, 0.94, 0.95, 0.96, 0.97, 0.98,\n",
       "       0.99, 1.  ])"
      ]
     },
     "execution_count": 3,
     "metadata": {},
     "output_type": "execute_result"
    }
   ],
   "source": [
    "# Number of fractional components - rows in simulated dataset\n",
    "fractional_components = np.linspace(0, 1, 101)\n",
    "fractional_components"
   ]
  },
  {
   "cell_type": "markdown",
   "id": "347c67c0-5dc0-4b89-9322-3f1347eabd6a",
   "metadata": {},
   "source": [
    "### Function 1 - exponential decay"
   ]
  },
  {
   "cell_type": "code",
   "execution_count": 4,
   "id": "0a378ac6-e8f8-497b-9c0a-f07716c642e6",
   "metadata": {},
   "outputs": [
    {
     "data": {
      "text/plain": [
       "[<matplotlib.lines.Line2D at 0x13097f0d0>]"
      ]
     },
     "execution_count": 4,
     "metadata": {},
     "output_type": "execute_result"
    },
    {
     "data": {
      "image/png": "[encoded data removed]",
      "text/plain": [
       "<Figure size 432x288 with 1 Axes>"
      ]
     },
     "metadata": {
      "needs_background": "light"
     },
     "output_type": "display_data"
    }
   ],
   "source": [
    "# Parameters for exponential decay\n",
    "initial_val = 1\n",
    "decay_factor = 2\n",
    "\n",
    "# Create y\n",
    "y_decay = initial_val*np.exp(-1*decay_factor*x)\n",
    "\n",
    "# Plot\n",
    "plt.plot(x, y_decay)"
   ]
  },
  {
   "cell_type": "markdown",
   "id": "26e908ad-4ec8-46a0-9eeb-7ad797fb504f",
   "metadata": {},
   "source": [
    "### Function 2 - exponential increase"
   ]
  },
  {
   "cell_type": "code",
   "execution_count": 5,
   "id": "ca2f4787-3eee-42e5-a4b6-4481ada756c9",
   "metadata": {},
   "outputs": [
    {
     "data": {
      "text/plain": [
       "[<matplotlib.lines.Line2D at 0x130c2b1f0>]"
      ]
     },
     "execution_count": 5,
     "metadata": {},
     "output_type": "execute_result"
    },
    {
     "data": {
      "image/png": "[encoded data removed]",
      "text/plain": [
       "<Figure size 432x288 with 1 Axes>"
      ]
     },
     "metadata": {
      "needs_background": "light"
     },
     "output_type": "display_data"
    }
   ],
   "source": [
    "# Parameters for exponential decay\n",
    "initial_val = 0.2\n",
    "\n",
    "# Create y\n",
    "y_exp = initial_val+(np.exp(x*.5)-1)\n",
    "\n",
    "# Plot\n",
    "plt.plot(x, y_exp)"
   ]
  },
  {
   "cell_type": "markdown",
   "id": "9059b2e8-9295-4618-a162-8459a726606c",
   "metadata": {},
   "source": [
    "### Function to create simulated dataset"
   ]
  },
  {
   "cell_type": "code",
   "execution_count": 6,
   "id": "4ad9dcb5-84be-4a8e-9c1e-26e5fe57fad6",
   "metadata": {},
   "outputs": [],
   "source": [
    "# Function to create simulated dataset\n",
    "def create_simulated_dataset(fractions, func_1, func_2, noise_sd):\n",
    "    \n",
    "    # Initialize list to hold dataset\n",
    "    dat = []\n",
    "    \n",
    "    # Loop through to create dataset\n",
    "    for fraction in fractions:\n",
    "    \n",
    "        # Define fractional components for each function\n",
    "        function_1_fraction = fraction\n",
    "        function_2_fraction = np.round(1 - fraction,2)\n",
    "    \n",
    "        # Multiply signal values by fraction\n",
    "        func_1_fraction = func_1*function_1_fraction\n",
    "        func_2_fraction = func_2*function_2_fraction\n",
    "    \n",
    "        # Add fractional signals together\n",
    "        y_sum_fraction = func_1_fraction + func_2_fraction\n",
    "        \n",
    "        # Add random white gaussian noise to summed-spectrum\n",
    "        noise = np.random.normal(0,noise_sd,len(y_sum_fraction))\n",
    "        y_sum_fraction = y_sum_fraction + noise\n",
    "    \n",
    "        # Append result\n",
    "        dat.append([function_1_fraction,\n",
    "                    function_2_fraction] + list(y_sum_fraction))\n",
    "\n",
    "    # Convert to dataframe\n",
    "    dat = pd.DataFrame(dat,\n",
    "                       columns = ['y1', 'y2',\n",
    "                                  'x1', 'x2', 'x3', 'x4', 'x5', 'x6',\n",
    "                                  'x7', 'x8', 'x9', 'x10', 'x11', 'x12'])\n",
    "    \n",
    "    # Return dataset\n",
    "    return(dat)"
   ]
  },
  {
   "cell_type": "code",
   "execution_count": 7,
   "id": "6570811e-ab39-46a9-a419-ae43d9979c5c",
   "metadata": {},
   "outputs": [
    {
     "data": {
      "text/html": [
       "<div>\n",
       "<style scoped>\n",
       "    .dataframe tbody tr th:only-of-type {\n",
       "        vertical-align: middle;\n",
       "    }\n",
       "\n",
       "    .dataframe tbody tr th {\n",
       "        vertical-align: top;\n",
       "    }\n",
       "\n",
       "    .dataframe thead th {\n",
       "        text-align: right;\n",
       "    }\n",
       "</style>\n",
       "<table border=\"1\" class=\"dataframe\">\n",
       "  <thead>\n",
       "    <tr style=\"text-align: right;\">\n",
       "      <th></th>\n",
       "      <th>y1</th>\n",
       "      <th>y2</th>\n",
       "      <th>x1</th>\n",
       "      <th>x2</th>\n",
       "      <th>x3</th>\n",
       "      <th>x4</th>\n",
       "      <th>x5</th>\n",
       "      <th>x6</th>\n",
       "      <th>x7</th>\n",
       "      <th>x8</th>\n",
       "      <th>x9</th>\n",
       "      <th>x10</th>\n",
       "      <th>x11</th>\n",
       "      <th>x12</th>\n",
       "    </tr>\n",
       "  </thead>\n",
       "  <tbody>\n",
       "    <tr>\n",
       "      <th>0</th>\n",
       "      <td>0.00</td>\n",
       "      <td>1.00</td>\n",
       "      <td>0.200</td>\n",
       "      <td>0.246503</td>\n",
       "      <td>0.295169</td>\n",
       "      <td>0.346099</td>\n",
       "      <td>0.399396</td>\n",
       "      <td>0.455172</td>\n",
       "      <td>0.513542</td>\n",
       "      <td>0.574626</td>\n",
       "      <td>0.638551</td>\n",
       "      <td>0.705449</td>\n",
       "      <td>0.775457</td>\n",
       "      <td>0.848721</td>\n",
       "    </tr>\n",
       "    <tr>\n",
       "      <th>1</th>\n",
       "      <td>0.01</td>\n",
       "      <td>0.99</td>\n",
       "      <td>0.208</td>\n",
       "      <td>0.252376</td>\n",
       "      <td>0.299169</td>\n",
       "      <td>0.348433</td>\n",
       "      <td>0.400234</td>\n",
       "      <td>0.454649</td>\n",
       "      <td>0.511766</td>\n",
       "      <td>0.571681</td>\n",
       "      <td>0.634501</td>\n",
       "      <td>0.700341</td>\n",
       "      <td>0.769326</td>\n",
       "      <td>0.841587</td>\n",
       "    </tr>\n",
       "    <tr>\n",
       "      <th>2</th>\n",
       "      <td>0.02</td>\n",
       "      <td>0.98</td>\n",
       "      <td>0.216</td>\n",
       "      <td>0.258248</td>\n",
       "      <td>0.303169</td>\n",
       "      <td>0.350768</td>\n",
       "      <td>0.401073</td>\n",
       "      <td>0.454127</td>\n",
       "      <td>0.509989</td>\n",
       "      <td>0.568735</td>\n",
       "      <td>0.630450</td>\n",
       "      <td>0.695233</td>\n",
       "      <td>0.763194</td>\n",
       "      <td>0.834454</td>\n",
       "    </tr>\n",
       "    <tr>\n",
       "      <th>3</th>\n",
       "      <td>0.03</td>\n",
       "      <td>0.97</td>\n",
       "      <td>0.224</td>\n",
       "      <td>0.264121</td>\n",
       "      <td>0.307169</td>\n",
       "      <td>0.353103</td>\n",
       "      <td>0.401911</td>\n",
       "      <td>0.453604</td>\n",
       "      <td>0.508213</td>\n",
       "      <td>0.565789</td>\n",
       "      <td>0.626400</td>\n",
       "      <td>0.690126</td>\n",
       "      <td>0.757063</td>\n",
       "      <td>0.827320</td>\n",
       "    </tr>\n",
       "    <tr>\n",
       "      <th>4</th>\n",
       "      <td>0.04</td>\n",
       "      <td>0.96</td>\n",
       "      <td>0.232</td>\n",
       "      <td>0.269993</td>\n",
       "      <td>0.311168</td>\n",
       "      <td>0.355438</td>\n",
       "      <td>0.402749</td>\n",
       "      <td>0.453081</td>\n",
       "      <td>0.506437</td>\n",
       "      <td>0.562844</td>\n",
       "      <td>0.622349</td>\n",
       "      <td>0.685018</td>\n",
       "      <td>0.750932</td>\n",
       "      <td>0.820186</td>\n",
       "    </tr>\n",
       "    <tr>\n",
       "      <th>...</th>\n",
       "      <td>...</td>\n",
       "      <td>...</td>\n",
       "      <td>...</td>\n",
       "      <td>...</td>\n",
       "      <td>...</td>\n",
       "      <td>...</td>\n",
       "      <td>...</td>\n",
       "      <td>...</td>\n",
       "      <td>...</td>\n",
       "      <td>...</td>\n",
       "      <td>...</td>\n",
       "      <td>...</td>\n",
       "      <td>...</td>\n",
       "      <td>...</td>\n",
       "    </tr>\n",
       "    <tr>\n",
       "      <th>96</th>\n",
       "      <td>0.96</td>\n",
       "      <td>0.04</td>\n",
       "      <td>0.968</td>\n",
       "      <td>0.810263</td>\n",
       "      <td>0.679145</td>\n",
       "      <td>0.570239</td>\n",
       "      <td>0.479872</td>\n",
       "      <td>0.404982</td>\n",
       "      <td>0.343016</td>\n",
       "      <td>0.291849</td>\n",
       "      <td>0.249708</td>\n",
       "      <td>0.215117</td>\n",
       "      <td>0.186846</td>\n",
       "      <td>0.163871</td>\n",
       "    </tr>\n",
       "    <tr>\n",
       "      <th>97</th>\n",
       "      <td>0.97</td>\n",
       "      <td>0.03</td>\n",
       "      <td>0.976</td>\n",
       "      <td>0.816135</td>\n",
       "      <td>0.683145</td>\n",
       "      <td>0.572574</td>\n",
       "      <td>0.480710</td>\n",
       "      <td>0.404459</td>\n",
       "      <td>0.341240</td>\n",
       "      <td>0.288904</td>\n",
       "      <td>0.245658</td>\n",
       "      <td>0.210010</td>\n",
       "      <td>0.180715</td>\n",
       "      <td>0.156737</td>\n",
       "    </tr>\n",
       "    <tr>\n",
       "      <th>98</th>\n",
       "      <td>0.98</td>\n",
       "      <td>0.02</td>\n",
       "      <td>0.984</td>\n",
       "      <td>0.822008</td>\n",
       "      <td>0.687144</td>\n",
       "      <td>0.574909</td>\n",
       "      <td>0.481549</td>\n",
       "      <td>0.403936</td>\n",
       "      <td>0.339464</td>\n",
       "      <td>0.285958</td>\n",
       "      <td>0.241607</td>\n",
       "      <td>0.204902</td>\n",
       "      <td>0.174583</td>\n",
       "      <td>0.149603</td>\n",
       "    </tr>\n",
       "    <tr>\n",
       "      <th>99</th>\n",
       "      <td>0.99</td>\n",
       "      <td>0.01</td>\n",
       "      <td>0.992</td>\n",
       "      <td>0.827880</td>\n",
       "      <td>0.691144</td>\n",
       "      <td>0.577243</td>\n",
       "      <td>0.482387</td>\n",
       "      <td>0.403413</td>\n",
       "      <td>0.337687</td>\n",
       "      <td>0.283012</td>\n",
       "      <td>0.237557</td>\n",
       "      <td>0.199794</td>\n",
       "      <td>0.168452</td>\n",
       "      <td>0.142469</td>\n",
       "    </tr>\n",
       "    <tr>\n",
       "      <th>100</th>\n",
       "      <td>1.00</td>\n",
       "      <td>0.00</td>\n",
       "      <td>1.000</td>\n",
       "      <td>0.833753</td>\n",
       "      <td>0.695144</td>\n",
       "      <td>0.579578</td>\n",
       "      <td>0.483225</td>\n",
       "      <td>0.402890</td>\n",
       "      <td>0.335911</td>\n",
       "      <td>0.280067</td>\n",
       "      <td>0.233506</td>\n",
       "      <td>0.194687</td>\n",
       "      <td>0.162321</td>\n",
       "      <td>0.135335</td>\n",
       "    </tr>\n",
       "  </tbody>\n",
       "</table>\n",
       "<p>101 rows × 14 columns</p>\n",
       "</div>"
      ],
      "text/plain": [
       "       y1    y2     x1        x2        x3        x4        x5        x6  \\\n",
       "0    0.00  1.00  0.200  0.246503  0.295169  0.346099  0.399396  0.455172   \n",
       "1    0.01  0.99  0.208  0.252376  0.299169  0.348433  0.400234  0.454649   \n",
       "2    0.02  0.98  0.216  0.258248  0.303169  0.350768  0.401073  0.454127   \n",
       "3    0.03  0.97  0.224  0.264121  0.307169  0.353103  0.401911  0.453604   \n",
       "4    0.04  0.96  0.232  0.269993  0.311168  0.355438  0.402749  0.453081   \n",
       "..    ...   ...    ...       ...       ...       ...       ...       ...   \n",
       "96   0.96  0.04  0.968  0.810263  0.679145  0.570239  0.479872  0.404982   \n",
       "97   0.97  0.03  0.976  0.816135  0.683145  0.572574  0.480710  0.404459   \n",
       "98   0.98  0.02  0.984  0.822008  0.687144  0.574909  0.481549  0.403936   \n",
       "99   0.99  0.01  0.992  0.827880  0.691144  0.577243  0.482387  0.403413   \n",
       "100  1.00  0.00  1.000  0.833753  0.695144  0.579578  0.483225  0.402890   \n",
       "\n",
       "           x7        x8        x9       x10       x11       x12  \n",
       "0    0.513542  0.574626  0.638551  0.705449  0.775457  0.848721  \n",
       "1    0.511766  0.571681  0.634501  0.700341  0.769326  0.841587  \n",
       "2    0.509989  0.568735  0.630450  0.695233  0.763194  0.834454  \n",
       "3    0.508213  0.565789  0.626400  0.690126  0.757063  0.827320  \n",
       "4    0.506437  0.562844  0.622349  0.685018  0.750932  0.820186  \n",
       "..        ...       ...       ...       ...       ...       ...  \n",
       "96   0.343016  0.291849  0.249708  0.215117  0.186846  0.163871  \n",
       "97   0.341240  0.288904  0.245658  0.210010  0.180715  0.156737  \n",
       "98   0.339464  0.285958  0.241607  0.204902  0.174583  0.149603  \n",
       "99   0.337687  0.283012  0.237557  0.199794  0.168452  0.142469  \n",
       "100  0.335911  0.280067  0.233506  0.194687  0.162321  0.135335  \n",
       "\n",
       "[101 rows x 14 columns]"
      ]
     },
     "execution_count": 7,
     "metadata": {},
     "output_type": "execute_result"
    }
   ],
   "source": [
    "# Create example dataset - no noise\n",
    "simulated_dataset = create_simulated_dataset(fractional_components, y_decay, y_exp, 0)\n",
    "simulated_dataset"
   ]
  },
  {
   "cell_type": "markdown",
   "id": "fa0767a3-cc83-4af7-bf39-10e64d954c70",
   "metadata": {},
   "source": [
    "# II. spectral unmixing"
   ]
  },
  {
   "cell_type": "markdown",
   "id": "c706d254-7ba9-4592-9004-37ff7810fd7f",
   "metadata": {},
   "source": [
    "## a) basic concept on single spectrum"
   ]
  },
  {
   "cell_type": "markdown",
   "id": "304d83f5-e92b-435e-9d9a-a792a922e807",
   "metadata": {},
   "source": [
    "### create X --> 100% Hb and 100% HbO<sub>2</sub> msot spectra"
   ]
  },
  {
   "cell_type": "code",
   "execution_count": 8,
   "id": "61689aa3-9b41-443d-995f-bac2407cdbf6",
   "metadata": {},
   "outputs": [
    {
     "data": {
      "text/plain": [
       "array([[1.        , 0.2       ],\n",
       "       [0.83375292, 0.24650344],\n",
       "       [0.69514393, 0.29516944],\n",
       "       [0.57957828, 0.34609858],\n",
       "       [0.48322508, 0.3993961 ],\n",
       "       [0.40289032, 0.45517214],\n",
       "       [0.33591098, 0.51354196],\n",
       "       [0.28006676, 0.57462617],\n",
       "       [0.23350648, 0.63855101],\n",
       "       [0.19468671, 0.70544857],\n",
       "       [0.16232061, 0.7754571 ],\n",
       "       [0.13533528, 0.84872127]])"
      ]
     },
     "execution_count": 8,
     "metadata": {},
     "output_type": "execute_result"
    }
   ],
   "source": [
    "# Define X\n",
    "y1_100 = np.squeeze(simulated_dataset.iloc[len(simulated_dataset)-1,\n",
    "                                           2:].to_numpy())\n",
    "y2_100 = np.squeeze(simulated_dataset.iloc[0,\n",
    "                                           2:].to_numpy())\n",
    "\n",
    "X = np.array([y1_100, y2_100]).T\n",
    "X"
   ]
  },
  {
   "cell_type": "markdown",
   "id": "c735c588-3e51-41ca-9060-4e252ce0f72f",
   "metadata": {},
   "source": [
    "### create y --> msot spectra at user defined fractional components"
   ]
  },
  {
   "cell_type": "code",
   "execution_count": 9,
   "id": "caedbb8d-ea6a-4f0b-8d35-9f0b95de1268",
   "metadata": {},
   "outputs": [
    {
     "data": {
      "text/plain": [
       "array([0.456     , 0.43442327, 0.42316128, 0.42081208, 0.42622138,\n",
       "       0.43844196, 0.45670004, 0.48036716, 0.50893676, 0.54200478,\n",
       "       0.57925343, 0.62043775])"
      ]
     },
     "execution_count": 9,
     "metadata": {},
     "output_type": "execute_result"
    }
   ],
   "source": [
    "# User defined y signal at given y1, y2 fractional components\n",
    "y1_frac = 0.32 # User defined\n",
    "dat_temp = simulated_dataset.loc[simulated_dataset['y1']==y1_frac].copy()\n",
    "y = np.squeeze(dat_temp.iloc[:,2:].to_numpy())\n",
    "y"
   ]
  },
  {
   "cell_type": "markdown",
   "id": "817e0974-05f5-469b-b396-77dbbf6bb383",
   "metadata": {},
   "source": [
    "### estimate fractional components of y using spectral unmixing"
   ]
  },
  {
   "cell_type": "code",
   "execution_count": 10,
   "id": "9e41550c-2b7b-42d6-a3da-a5ae33417073",
   "metadata": {},
   "outputs": [
    {
     "name": "stdout",
     "output_type": "stream",
     "text": [
      "y1 estimate: 0.32\n",
      "y2 estimate: 0.68\n"
     ]
    }
   ],
   "source": [
    "# Use spectral unmixing to get fractional components\n",
    "linear_regressor = LinearRegression(fit_intercept=False)\n",
    "linear_regressor.fit(X, y)\n",
    "\n",
    "# Estimated fractional components (y1_frac, y2_frac)\n",
    "y1_estimate, y2_estimate = linear_regressor.coef_\n",
    "\n",
    "print('y1 estimate: ' + str(np.round(y1_estimate,2)))\n",
    "print('y2 estimate: ' + str(np.round(y2_estimate,2)))"
   ]
  },
  {
   "cell_type": "markdown",
   "id": "ac7514b9-f04a-4abd-9aa8-0e7f09c2c55d",
   "metadata": {},
   "source": [
    "### estimated components of y1 and y2 in msot spectrum"
   ]
  },
  {
   "cell_type": "code",
   "execution_count": 11,
   "id": "ac645cba-162a-4920-8b38-918aee988754",
   "metadata": {},
   "outputs": [
    {
     "data": {
      "image/png": "[encoded data removed]",
      "text/plain": [
       "<Figure size 432x288 with 1 Axes>"
      ]
     },
     "metadata": {
      "needs_background": "light"
     },
     "output_type": "display_data"
    }
   ],
   "source": [
    "# Plot\n",
    "plt.plot(x, y, label = \"signal\") # Raw Signal\n",
    "\n",
    "# y signals for each components based on regression estimates\n",
    "## y1\n",
    "y1_frac = y1_estimate\n",
    "y1_signal = y_decay*y1_frac\n",
    "plt.plot(x, y1_signal, label = \"estimated y1 component\")\n",
    "## y2\n",
    "y2_frac = y2_estimate\n",
    "y2_signal = y_exp*y2_frac\n",
    "plt.plot(x, y2_signal, label = \"estimated y2 component\")\n",
    "\n",
    "# Plot\n",
    "plt.legend()\n",
    "plt.show()"
   ]
  },
  {
   "cell_type": "markdown",
   "id": "73403645-c6df-48ed-b423-e49034a875f6",
   "metadata": {},
   "source": [
    "## b) calculate rmse of estimates on all spectra in dataset"
   ]
  },
  {
   "cell_type": "code",
   "execution_count": 12,
   "id": "10be9a29-768b-4f9a-b7fd-7969e7f0d711",
   "metadata": {},
   "outputs": [
    {
     "name": "stdout",
     "output_type": "stream",
     "text": [
      "rmse_y1: 2.0027070464350204e-16\n",
      "rmse_y2: 1.3202777927530697e-16\n"
     ]
    }
   ],
   "source": [
    "# Define actual y1s and y2s\n",
    "y1s = list(simulated_dataset['y1'].values)\n",
    "y2s = list(simulated_dataset['y2'].values)\n",
    "\n",
    "# Preallocate lists to hold y1 and y2 estimates\n",
    "y1_estimates = []\n",
    "y2_estimates = []\n",
    "\n",
    "# Define linear regressor\n",
    "linear_regressor = LinearRegression(fit_intercept=False, positive=True)\n",
    "\n",
    "# Loop through each spectrum and estimate y1 and y2 using spectral unmixing\n",
    "for spectrum_iterator in range(len(simulated_dataset)):\n",
    "    y = np.squeeze(simulated_dataset.iloc[spectrum_iterator,\n",
    "                                          2:].to_numpy())\n",
    "    # Use spectral unmixing to get fractional components\n",
    "    linear_regressor.fit(X, y)\n",
    "\n",
    "    # Estimated fractional components (y1_frac, y2_frac)\n",
    "    y1_estimate, y2_estimate = linear_regressor.coef_\n",
    "    \n",
    "    # Append results\n",
    "    y1_estimates.append(y1_estimate)\n",
    "    y2_estimates.append(y2_estimate)\n",
    "    \n",
    "# Calculate rmse for y1 and y2\n",
    "rmse_y1 = mean_squared_error(np.array(y1s), np.array(y1_estimates), \n",
    "                             squared=False)\n",
    "print('rmse_y1: ' + str(rmse_y1))\n",
    "rmse_y2 = mean_squared_error(np.array(y2s), np.array(y2_estimates), \n",
    "                             squared=False)\n",
    "print('rmse_y2: ' + str(rmse_y2))"
   ]
  },
  {
   "cell_type": "code",
   "execution_count": 13,
   "id": "fb703a9e-3128-4151-a9b0-c1fcf581a78c",
   "metadata": {},
   "outputs": [
    {
     "name": "stdout",
     "output_type": "stream",
     "text": [
      "average rmse: 1.661492419594045e-16\n"
     ]
    }
   ],
   "source": [
    "# Calculate average rmse\n",
    "avg_rmse = (rmse_y1 + rmse_y2)/2\n",
    "print('average rmse: ' + str(avg_rmse))"
   ]
  },
  {
   "cell_type": "markdown",
   "id": "a631f114-10e1-4117-b86e-a58b8cf32de9",
   "metadata": {},
   "source": [
    "## c) full simulated experiment"
   ]
  },
  {
   "cell_type": "code",
   "execution_count": 14,
   "id": "4c6c536f-104a-433b-b62c-ae5f51d88397",
   "metadata": {},
   "outputs": [
    {
     "data": {
      "text/html": [
       "<div>\n",
       "<style scoped>\n",
       "    .dataframe tbody tr th:only-of-type {\n",
       "        vertical-align: middle;\n",
       "    }\n",
       "\n",
       "    .dataframe tbody tr th {\n",
       "        vertical-align: top;\n",
       "    }\n",
       "\n",
       "    .dataframe thead th {\n",
       "        text-align: right;\n",
       "    }\n",
       "</style>\n",
       "<table border=\"1\" class=\"dataframe\">\n",
       "  <thead>\n",
       "    <tr style=\"text-align: right;\">\n",
       "      <th></th>\n",
       "      <th>noise_level</th>\n",
       "      <th>rep</th>\n",
       "      <th>avg_rmse</th>\n",
       "    </tr>\n",
       "  </thead>\n",
       "  <tbody>\n",
       "    <tr>\n",
       "      <th>0</th>\n",
       "      <td>0.0</td>\n",
       "      <td>1.0</td>\n",
       "      <td>1.661492e-16</td>\n",
       "    </tr>\n",
       "    <tr>\n",
       "      <th>1</th>\n",
       "      <td>0.0</td>\n",
       "      <td>2.0</td>\n",
       "      <td>1.661492e-16</td>\n",
       "    </tr>\n",
       "    <tr>\n",
       "      <th>2</th>\n",
       "      <td>0.0</td>\n",
       "      <td>3.0</td>\n",
       "      <td>1.661492e-16</td>\n",
       "    </tr>\n",
       "    <tr>\n",
       "      <th>3</th>\n",
       "      <td>0.0</td>\n",
       "      <td>4.0</td>\n",
       "      <td>1.661492e-16</td>\n",
       "    </tr>\n",
       "    <tr>\n",
       "      <th>4</th>\n",
       "      <td>0.0</td>\n",
       "      <td>5.0</td>\n",
       "      <td>1.661492e-16</td>\n",
       "    </tr>\n",
       "    <tr>\n",
       "      <th>...</th>\n",
       "      <td>...</td>\n",
       "      <td>...</td>\n",
       "      <td>...</td>\n",
       "    </tr>\n",
       "    <tr>\n",
       "      <th>495</th>\n",
       "      <td>0.2</td>\n",
       "      <td>96.0</td>\n",
       "      <td>1.383415e-01</td>\n",
       "    </tr>\n",
       "    <tr>\n",
       "      <th>496</th>\n",
       "      <td>0.2</td>\n",
       "      <td>97.0</td>\n",
       "      <td>1.245685e-01</td>\n",
       "    </tr>\n",
       "    <tr>\n",
       "      <th>497</th>\n",
       "      <td>0.2</td>\n",
       "      <td>98.0</td>\n",
       "      <td>1.311276e-01</td>\n",
       "    </tr>\n",
       "    <tr>\n",
       "      <th>498</th>\n",
       "      <td>0.2</td>\n",
       "      <td>99.0</td>\n",
       "      <td>1.306760e-01</td>\n",
       "    </tr>\n",
       "    <tr>\n",
       "      <th>499</th>\n",
       "      <td>0.2</td>\n",
       "      <td>100.0</td>\n",
       "      <td>1.193810e-01</td>\n",
       "    </tr>\n",
       "  </tbody>\n",
       "</table>\n",
       "<p>500 rows × 3 columns</p>\n",
       "</div>"
      ],
      "text/plain": [
       "     noise_level    rep      avg_rmse\n",
       "0            0.0    1.0  1.661492e-16\n",
       "1            0.0    2.0  1.661492e-16\n",
       "2            0.0    3.0  1.661492e-16\n",
       "3            0.0    4.0  1.661492e-16\n",
       "4            0.0    5.0  1.661492e-16\n",
       "..           ...    ...           ...\n",
       "495          0.2   96.0  1.383415e-01\n",
       "496          0.2   97.0  1.245685e-01\n",
       "497          0.2   98.0  1.311276e-01\n",
       "498          0.2   99.0  1.306760e-01\n",
       "499          0.2  100.0  1.193810e-01\n",
       "\n",
       "[500 rows x 3 columns]"
      ]
     },
     "execution_count": 14,
     "metadata": {},
     "output_type": "execute_result"
    }
   ],
   "source": [
    "# Initialize result array\n",
    "results = []\n",
    "\n",
    "# Define linear regressor\n",
    "linear_regressor = LinearRegression(fit_intercept=False, positive=True)\n",
    "\n",
    "# Define noise levels\n",
    "noise_levels = [0, 0.01, 0.05, 0.1, 0.2]\n",
    "for noise_level in noise_levels:\n",
    "    \n",
    "    # Define number of repetitions\n",
    "    reps = np.linspace(1, 100, 100)\n",
    "    for rep in reps:\n",
    "        \n",
    "        # Create simulated dataset\n",
    "        simulated_dataset = create_simulated_dataset(fractional_components, \n",
    "                                                     y_decay, \n",
    "                                                     y_exp, \n",
    "                                                     noise_level)\n",
    "        \n",
    "        # Define actual y1s and y2s\n",
    "        y1s = list(simulated_dataset['y1'].values)\n",
    "        y2s = list(simulated_dataset['y2'].values)\n",
    "\n",
    "        # Preallocate lists to hold y1 and y2 estimates\n",
    "        y1_estimates = []\n",
    "        y2_estimates = []\n",
    "\n",
    "        # Loop through each spectrum and estimate y1 and y2 using spectral unmixing\n",
    "        for spectrum_iterator in range(len(simulated_dataset)):\n",
    "            y = np.squeeze(simulated_dataset.iloc[spectrum_iterator,\n",
    "                                                  2:].to_numpy())\n",
    "            # Use spectral unmixing to get fractional components\n",
    "            linear_regressor.fit(X, y)\n",
    "\n",
    "            # Estimated fractional components (y1_frac, y2_frac)\n",
    "            y1_estimate, y2_estimate = linear_regressor.coef_\n",
    "    \n",
    "            # Append results\n",
    "            y1_estimates.append(y1_estimate)\n",
    "            y2_estimates.append(y2_estimate)\n",
    "    \n",
    "        # Calculate rmse for y1 and y2\n",
    "        rmse_y1 = mean_squared_error(np.array(y1s), np.array(y1_estimates), \n",
    "                                     squared=False)\n",
    "        rmse_y2 = mean_squared_error(np.array(y2s), np.array(y2_estimates), \n",
    "                                     squared=False)\n",
    "            \n",
    "        # Calculate average rmse\n",
    "        avg_rmse = (rmse_y1 + rmse_y2)/2\n",
    "            \n",
    "        # Append results\n",
    "        results.append([noise_level, rep, avg_rmse])\n",
    "\n",
    "# Save results as dataframe\n",
    "results = pd.DataFrame(results, \n",
    "                       columns = ['noise_level', 'rep', 'avg_rmse'])\n",
    "results"
   ]
  },
  {
   "cell_type": "code",
   "execution_count": 15,
   "id": "694b5347-8fa9-4e51-8bba-1fb582a73de2",
   "metadata": {},
   "outputs": [
    {
     "data": {
      "image/png": "[encoded data removed]",
      "text/plain": [
       "<Figure size 720x360 with 1 Axes>"
      ]
     },
     "metadata": {
      "needs_background": "light"
     },
     "output_type": "display_data"
    }
   ],
   "source": [
    "# Box Plot of result\n",
    "fig, ax = plt.subplots(figsize = (10,5))\n",
    "sns.set(style=\"whitegrid\")\n",
    "sns.boxplot(x='noise_level', y='avg_rmse', data = results)\n",
    "ax.set_xlabel(\"noise Level\",\n",
    "              fontsize=14)\n",
    "ax.set_ylabel(\"average RMSE\",\n",
    "              fontsize=14)\n",
    "ax.set_title(\"average RMSE across 100 repetitions, by noise level\",\n",
    "             fontsize=14)\n",
    "for tick in ax.xaxis.get_major_ticks():\n",
    "    tick.label.set_fontsize(12)\n",
    "for tick in ax.yaxis.get_major_ticks():\n",
    "    tick.label.set_fontsize(12)\n",
    "fig.tight_layout()\n",
    "plt.show()"
   ]
  },
  {
   "cell_type": "markdown",
   "id": "b9c230ee-3a3c-46f8-b31e-7e9954579f53",
   "metadata": {},
   "source": [
    "# III. machine learning"
   ]
  },
  {
   "cell_type": "code",
   "execution_count": 7,
   "id": "e321843c-0bfa-4d75-b5ee-f4f1ad0b2e4b",
   "metadata": {},
   "outputs": [
    {
     "data": {
      "text/plain": [
       "array([[0.2       , 0.24650344, 0.29516944, ..., 0.70544857, 0.7754571 ,\n",
       "        0.84872127],\n",
       "       [0.208     , 0.25237593, 0.29916918, ..., 0.70034095, 0.76932574,\n",
       "        0.84158741],\n",
       "       [0.216     , 0.25824842, 0.30316893, ..., 0.69523334, 0.76319437,\n",
       "        0.83445355],\n",
       "       ...,\n",
       "       [0.984     , 0.82200793, 0.68714444, ..., 0.20490195, 0.17458334,\n",
       "        0.149603  ],\n",
       "       [0.992     , 0.82788042, 0.69114418, ..., 0.19979433, 0.16845198,\n",
       "        0.14246914],\n",
       "       [1.        , 0.83375292, 0.69514393, ..., 0.19468671, 0.16232061,\n",
       "        0.13533528]])"
      ]
     },
     "execution_count": 7,
     "metadata": {},
     "output_type": "execute_result"
    }
   ],
   "source": [
    "# Create X - no noise for training\n",
    "simulated_dataset = create_simulated_dataset(fractional_components, y_decay, y_exp, 0)\n",
    "X = simulated_dataset.iloc[:, 2:].values\n",
    "X"
   ]
  },
  {
   "cell_type": "code",
   "execution_count": 8,
   "id": "3565ddb0-14c4-43d5-ae86-b9831ce53a01",
   "metadata": {},
   "outputs": [
    {
     "data": {
      "text/plain": [
       "array([[0.  , 1.  ],\n",
       "       [0.01, 0.99],\n",
       "       [0.02, 0.98],\n",
       "       [0.03, 0.97],\n",
       "       [0.04, 0.96],\n",
       "       [0.05, 0.95],\n",
       "       [0.06, 0.94],\n",
       "       [0.07, 0.93],\n",
       "       [0.08, 0.92],\n",
       "       [0.09, 0.91],\n",
       "       [0.1 , 0.9 ],\n",
       "       [0.11, 0.89],\n",
       "       [0.12, 0.88],\n",
       "       [0.13, 0.87],\n",
       "       [0.14, 0.86],\n",
       "       [0.15, 0.85],\n",
       "       [0.16, 0.84],\n",
       "       [0.17, 0.83],\n",
       "       [0.18, 0.82],\n",
       "       [0.19, 0.81],\n",
       "       [0.2 , 0.8 ],\n",
       "       [0.21, 0.79],\n",
       "       [0.22, 0.78],\n",
       "       [0.23, 0.77],\n",
       "       [0.24, 0.76],\n",
       "       [0.25, 0.75],\n",
       "       [0.26, 0.74],\n",
       "       [0.27, 0.73],\n",
       "       [0.28, 0.72],\n",
       "       [0.29, 0.71],\n",
       "       [0.3 , 0.7 ],\n",
       "       [0.31, 0.69],\n",
       "       [0.32, 0.68],\n",
       "       [0.33, 0.67],\n",
       "       [0.34, 0.66],\n",
       "       [0.35, 0.65],\n",
       "       [0.36, 0.64],\n",
       "       [0.37, 0.63],\n",
       "       [0.38, 0.62],\n",
       "       [0.39, 0.61],\n",
       "       [0.4 , 0.6 ],\n",
       "       [0.41, 0.59],\n",
       "       [0.42, 0.58],\n",
       "       [0.43, 0.57],\n",
       "       [0.44, 0.56],\n",
       "       [0.45, 0.55],\n",
       "       [0.46, 0.54],\n",
       "       [0.47, 0.53],\n",
       "       [0.48, 0.52],\n",
       "       [0.49, 0.51],\n",
       "       [0.5 , 0.5 ],\n",
       "       [0.51, 0.49],\n",
       "       [0.52, 0.48],\n",
       "       [0.53, 0.47],\n",
       "       [0.54, 0.46],\n",
       "       [0.55, 0.45],\n",
       "       [0.56, 0.44],\n",
       "       [0.57, 0.43],\n",
       "       [0.58, 0.42],\n",
       "       [0.59, 0.41],\n",
       "       [0.6 , 0.4 ],\n",
       "       [0.61, 0.39],\n",
       "       [0.62, 0.38],\n",
       "       [0.63, 0.37],\n",
       "       [0.64, 0.36],\n",
       "       [0.65, 0.35],\n",
       "       [0.66, 0.34],\n",
       "       [0.67, 0.33],\n",
       "       [0.68, 0.32],\n",
       "       [0.69, 0.31],\n",
       "       [0.7 , 0.3 ],\n",
       "       [0.71, 0.29],\n",
       "       [0.72, 0.28],\n",
       "       [0.73, 0.27],\n",
       "       [0.74, 0.26],\n",
       "       [0.75, 0.25],\n",
       "       [0.76, 0.24],\n",
       "       [0.77, 0.23],\n",
       "       [0.78, 0.22],\n",
       "       [0.79, 0.21],\n",
       "       [0.8 , 0.2 ],\n",
       "       [0.81, 0.19],\n",
       "       [0.82, 0.18],\n",
       "       [0.83, 0.17],\n",
       "       [0.84, 0.16],\n",
       "       [0.85, 0.15],\n",
       "       [0.86, 0.14],\n",
       "       [0.87, 0.13],\n",
       "       [0.88, 0.12],\n",
       "       [0.89, 0.11],\n",
       "       [0.9 , 0.1 ],\n",
       "       [0.91, 0.09],\n",
       "       [0.92, 0.08],\n",
       "       [0.93, 0.07],\n",
       "       [0.94, 0.06],\n",
       "       [0.95, 0.05],\n",
       "       [0.96, 0.04],\n",
       "       [0.97, 0.03],\n",
       "       [0.98, 0.02],\n",
       "       [0.99, 0.01],\n",
       "       [1.  , 0.  ]])"
      ]
     },
     "execution_count": 8,
     "metadata": {},
     "output_type": "execute_result"
    }
   ],
   "source": [
    "# Create y\n",
    "y = simulated_dataset.iloc[:, 0:2].values\n",
    "y"
   ]
  },
  {
   "cell_type": "markdown",
   "id": "c8edcc66-ea61-4f0a-8ef0-016d7824ee60",
   "metadata": {},
   "source": [
    "## a) Linear Regression"
   ]
  },
  {
   "cell_type": "code",
   "execution_count": 9,
   "id": "09381162-4951-4c58-aa16-16195ceb0233",
   "metadata": {},
   "outputs": [
    {
     "data": {
      "text/plain": [
       "LinearRegression(positive=True)"
      ]
     },
     "execution_count": 9,
     "metadata": {},
     "output_type": "execute_result"
    }
   ],
   "source": [
    "# Train model on clean data\n",
    "model = LinearRegression(positive=True)\n",
    "model.fit(X, y)\n",
    "model"
   ]
  },
  {
   "cell_type": "code",
   "execution_count": 10,
   "id": "ff35ba01-1fc1-4c78-8bf6-779fda372cf9",
   "metadata": {},
   "outputs": [
    {
     "data": {
      "image/png": "[encoded data removed]",
      "text/plain": [
       "<Figure size 720x360 with 1 Axes>"
      ]
     },
     "metadata": {
      "needs_background": "light"
     },
     "output_type": "display_data"
    }
   ],
   "source": [
    "# Initialize result array\n",
    "results = []\n",
    "\n",
    "# Define noise levels\n",
    "noise_levels = [0, 0.01, 0.05, 0.1, 0.2]\n",
    "for noise_level in noise_levels:\n",
    "    \n",
    "    # Define number of repetitions\n",
    "    reps = np.linspace(1, 100, 100)\n",
    "    for rep in reps:\n",
    "        \n",
    "        # Create simulated dataset\n",
    "        simulated_dataset = create_simulated_dataset(fractional_components, \n",
    "                                                     y_decay, \n",
    "                                                     y_exp, \n",
    "                                                     noise_level)\n",
    "        \n",
    "        # Define actual y1s and y2s\n",
    "        y1s = list(simulated_dataset['y1'].values)\n",
    "        y2s = list(simulated_dataset['y2'].values)\n",
    "\n",
    "        # Estimated y1s and y2s\n",
    "        yhat = model.predict(simulated_dataset.iloc[:, 2:].values)\n",
    "        y1_estimates = list(yhat[:,0])\n",
    "        y2_estimates = list(yhat[:,1])\n",
    "    \n",
    "        # Calculate rmse for y1 and y2\n",
    "        rmse_y1 = mean_squared_error(np.array(y1s), np.array(y1_estimates), \n",
    "                                     squared=False)\n",
    "        rmse_y2 = mean_squared_error(np.array(y2s), np.array(y2_estimates), \n",
    "                                     squared=False)\n",
    "            \n",
    "        # Calculate average rmse\n",
    "        avg_rmse = (rmse_y1 + rmse_y2)/2\n",
    "            \n",
    "        # Append results\n",
    "        results.append([noise_level, rep, avg_rmse])\n",
    "\n",
    "# Save results as dataframe\n",
    "results = pd.DataFrame(results, \n",
    "                       columns = ['noise_level', 'rep', 'avg_rmse'])\n",
    "\n",
    "# Box Plot of result\n",
    "fig, ax = plt.subplots(figsize = (10,5))\n",
    "sns.set(style=\"whitegrid\")\n",
    "sns.boxplot(x='noise_level', y='avg_rmse', data = results)\n",
    "ax.set_xlabel(\"noise Level\",\n",
    "              fontsize=14)\n",
    "ax.set_ylabel(\"average RMSE\",\n",
    "              fontsize=14)\n",
    "ax.set_title(\"average RMSE across 100 repetitions, by noise level\",\n",
    "             fontsize=14)\n",
    "for tick in ax.xaxis.get_major_ticks():\n",
    "    tick.label.set_fontsize(12)\n",
    "for tick in ax.yaxis.get_major_ticks():\n",
    "    tick.label.set_fontsize(12)\n",
    "fig.tight_layout()\n",
    "plt.show()"
   ]
  },
  {
   "cell_type": "markdown",
   "id": "bdd5c4dc-7a01-4ea3-bb90-49f4b8352642",
   "metadata": {},
   "source": [
    "## b) Ridge"
   ]
  },
  {
   "cell_type": "code",
   "execution_count": 11,
   "id": "c4ee261e-4d74-4c87-a683-73d5a4d7f2b4",
   "metadata": {},
   "outputs": [
    {
     "data": {
      "image/png": "[encoded data removed]",
      "text/plain": [
       "<Figure size 720x360 with 1 Axes>"
      ]
     },
     "metadata": {},
     "output_type": "display_data"
    }
   ],
   "source": [
    "# Initialize result array\n",
    "results = []\n",
    "\n",
    "# Define alphas\n",
    "alphas = [0, 0.5, 1, 2]\n",
    "for alpha in alphas:\n",
    "    model = Ridge(positive=True, alpha = alpha)\n",
    "    model.fit(X, y)\n",
    "\n",
    "    # Define noise levels\n",
    "    noise_levels = [0, 0.01, 0.05, 0.1, 0.2]\n",
    "    for noise_level in noise_levels:\n",
    "    \n",
    "        # Define number of repetitions\n",
    "        reps = np.linspace(1, 100, 100)\n",
    "        for rep in reps:\n",
    "        \n",
    "            # Create simulated dataset\n",
    "            simulated_dataset = create_simulated_dataset(fractional_components, \n",
    "                                                         y_decay, \n",
    "                                                         y_exp, \n",
    "                                                         noise_level)\n",
    "        \n",
    "            # Define actual y1s and y2s\n",
    "            y1s = list(simulated_dataset['y1'].values)\n",
    "            y2s = list(simulated_dataset['y2'].values)\n",
    "\n",
    "            # Estimated y1s and y2s\n",
    "            yhat = model.predict(simulated_dataset.iloc[:, 2:].values)\n",
    "            y1_estimates = list(yhat[:,0])\n",
    "            y2_estimates = list(yhat[:,1])\n",
    "    \n",
    "            # Calculate rmse for y1 and y2\n",
    "            rmse_y1 = mean_squared_error(np.array(y1s), np.array(y1_estimates), \n",
    "                                         squared=False)\n",
    "            rmse_y2 = mean_squared_error(np.array(y2s), np.array(y2_estimates), \n",
    "                                         squared=False)\n",
    "            \n",
    "            # Calculate average rmse\n",
    "            avg_rmse = (rmse_y1 + rmse_y2)/2\n",
    "            \n",
    "            # Append results\n",
    "            results.append([noise_level, rep, avg_rmse, alpha])\n",
    "\n",
    "# Save results as dataframe\n",
    "results = pd.DataFrame(results, \n",
    "                       columns = ['noise_level', 'rep', 'avg_rmse', 'alpha'])\n",
    "\n",
    "# Box Plot of result\n",
    "fig, ax = plt.subplots(figsize = (10,5))\n",
    "sns.set(style=\"whitegrid\")\n",
    "sns.boxplot(x='noise_level', y='avg_rmse', hue='alpha',\n",
    "            data = results)\n",
    "ax.set_xlabel(\"noise Level\",\n",
    "              fontsize=14)\n",
    "ax.set_ylabel(\"average RMSE\",\n",
    "              fontsize=14)\n",
    "ax.set_title(\"average RMSE across 100 repetitions, by noise level\",\n",
    "             fontsize=14)\n",
    "for tick in ax.xaxis.get_major_ticks():\n",
    "    tick.label.set_fontsize(12)\n",
    "for tick in ax.yaxis.get_major_ticks():\n",
    "    tick.label.set_fontsize(12)\n",
    "fig.tight_layout()\n",
    "plt.show()"
   ]
  },
  {
   "cell_type": "code",
   "execution_count": null,
   "id": "b48e4840-f460-4274-8a25-e08c8f696c23",
   "metadata": {},
   "outputs": [],
   "source": []
  }
 ],
 "metadata": {
  "kernelspec": {
   "display_name": "Python 3 (ipykernel)",
   "language": "python",
   "name": "python3"
  },
  "language_info": {
   "codemirror_mode": {
    "name": "ipython",
    "version": 3
   },
   "file_extension": ".py",
   "mimetype": "text/x-python",
   "name": "python",
   "nbconvert_exporter": "python",
   "pygments_lexer": "ipython3",
   "version": "3.10.1"
  }
 },
 "nbformat": 4,
 "nbformat_minor": 5
}
