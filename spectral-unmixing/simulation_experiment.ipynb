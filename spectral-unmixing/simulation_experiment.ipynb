{
 "cells": [
  {
   "cell_type": "markdown",
   "id": "565c3c0e-bfc3-4a6a-9418-428f3cf8671f",
   "metadata": {},
   "source": [
    "# Import Libraries needed to run notebook"
   ]
  },
  {
   "cell_type": "code",
   "execution_count": 1,
   "id": "a2a2adef-ffb4-45bd-9140-cff9c378f39a",
   "metadata": {},
   "outputs": [],
   "source": [
    "# Import libraries\n",
    "import pandas as pd\n",
    "import numpy as np\n",
    "import matplotlib.pyplot as plt\n",
    "from sklearn.linear_model import LinearRegression\n",
    "from sklearn.metrics import mean_squared_error"
   ]
  },
  {
   "cell_type": "markdown",
   "id": "3f171637-ee47-428b-9118-3732000df9e2",
   "metadata": {},
   "source": [
    "# I. Create Simulated Dataset"
   ]
  },
  {
   "cell_type": "markdown",
   "id": "890b7658-187a-46fe-9a36-5eca136e12f8",
   "metadata": {},
   "source": [
    "### x values in spectrum (frequencies)"
   ]
  },
  {
   "cell_type": "code",
   "execution_count": 2,
   "id": "9b28e1ff-4a03-4899-817d-b7b1f36b8bc9",
   "metadata": {},
   "outputs": [
    {
     "data": {
      "text/plain": [
       "array([0.        , 0.09090909, 0.18181818, 0.27272727, 0.36363636,\n",
       "       0.45454545, 0.54545455, 0.63636364, 0.72727273, 0.81818182,\n",
       "       0.90909091, 1.        ])"
      ]
     },
     "execution_count": 2,
     "metadata": {},
     "output_type": "execute_result"
    }
   ],
   "source": [
    "# Define x values\n",
    "x = np.linspace(0, 1, 12)\n",
    "x"
   ]
  },
  {
   "cell_type": "markdown",
   "id": "3e01480d-8dfb-4f0d-a200-f79bcbf46ea7",
   "metadata": {},
   "source": [
    "### number of fractional components"
   ]
  },
  {
   "cell_type": "code",
   "execution_count": 3,
   "id": "e039c4f0-a839-4902-aeb8-50386dff3e14",
   "metadata": {},
   "outputs": [
    {
     "data": {
      "text/plain": [
       "array([0.  , 0.01, 0.02, 0.03, 0.04, 0.05, 0.06, 0.07, 0.08, 0.09, 0.1 ,\n",
       "       0.11, 0.12, 0.13, 0.14, 0.15, 0.16, 0.17, 0.18, 0.19, 0.2 , 0.21,\n",
       "       0.22, 0.23, 0.24, 0.25, 0.26, 0.27, 0.28, 0.29, 0.3 , 0.31, 0.32,\n",
       "       0.33, 0.34, 0.35, 0.36, 0.37, 0.38, 0.39, 0.4 , 0.41, 0.42, 0.43,\n",
       "       0.44, 0.45, 0.46, 0.47, 0.48, 0.49, 0.5 , 0.51, 0.52, 0.53, 0.54,\n",
       "       0.55, 0.56, 0.57, 0.58, 0.59, 0.6 , 0.61, 0.62, 0.63, 0.64, 0.65,\n",
       "       0.66, 0.67, 0.68, 0.69, 0.7 , 0.71, 0.72, 0.73, 0.74, 0.75, 0.76,\n",
       "       0.77, 0.78, 0.79, 0.8 , 0.81, 0.82, 0.83, 0.84, 0.85, 0.86, 0.87,\n",
       "       0.88, 0.89, 0.9 , 0.91, 0.92, 0.93, 0.94, 0.95, 0.96, 0.97, 0.98,\n",
       "       0.99, 1.  ])"
      ]
     },
     "execution_count": 3,
     "metadata": {},
     "output_type": "execute_result"
    }
   ],
   "source": [
    "# Number of fractional components - rows in simulated dataset\n",
    "fractional_components = np.linspace(0, 1, 101)\n",
    "fractional_components"
   ]
  },
  {
   "cell_type": "markdown",
   "id": "347c67c0-5dc0-4b89-9322-3f1347eabd6a",
   "metadata": {},
   "source": [
    "### Function 1 - exponential decay"
   ]
  },
  {
   "cell_type": "code",
   "execution_count": 4,
   "id": "0a378ac6-e8f8-497b-9c0a-f07716c642e6",
   "metadata": {},
   "outputs": [
    {
     "data": {
      "text/plain": [
       "[<matplotlib.lines.Line2D at 0x12ce3dc60>]"
      ]
     },
     "execution_count": 4,
     "metadata": {},
     "output_type": "execute_result"
    },
    {
     "data": {
      "image/png": "[encoded data removed]",
      "text/plain": [
       "<Figure size 432x288 with 1 Axes>"
      ]
     },
     "metadata": {
      "needs_background": "light"
     },
     "output_type": "display_data"
    }
   ],
   "source": [
    "# Parameters for exponential decay\n",
    "initial_val = 1\n",
    "decay_factor = 2\n",
    "\n",
    "# Create y\n",
    "y_decay = initial_val*np.exp(-1*decay_factor*x)\n",
    "\n",
    "# Plot\n",
    "plt.plot(x, y_decay)"
   ]
  },
  {
   "cell_type": "markdown",
   "id": "26e908ad-4ec8-46a0-9eeb-7ad797fb504f",
   "metadata": {},
   "source": [
    "### Function 2 - exponential increase"
   ]
  },
  {
   "cell_type": "code",
   "execution_count": 5,
   "id": "ca2f4787-3eee-42e5-a4b6-4481ada756c9",
   "metadata": {},
   "outputs": [
    {
     "data": {
      "text/plain": [
       "[<matplotlib.lines.Line2D at 0x12d035fc0>]"
      ]
     },
     "execution_count": 5,
     "metadata": {},
     "output_type": "execute_result"
    },
    {
     "data": {
      "image/png": "[encoded data removed]",
      "text/plain": [
       "<Figure size 432x288 with 1 Axes>"
      ]
     },
     "metadata": {
      "needs_background": "light"
     },
     "output_type": "display_data"
    }
   ],
   "source": [
    "# Parameters for exponential decay\n",
    "initial_val = 0.2\n",
    "\n",
    "# Create y\n",
    "y_exp = initial_val+(np.exp(x*.5)-1)\n",
    "\n",
    "# Plot\n",
    "plt.plot(x, y_exp)"
   ]
  },
  {
   "cell_type": "markdown",
   "id": "9059b2e8-9295-4618-a162-8459a726606c",
   "metadata": {},
   "source": [
    "### Function to create simulated dataset"
   ]
  },
  {
   "cell_type": "code",
   "execution_count": 6,
   "id": "4ad9dcb5-84be-4a8e-9c1e-26e5fe57fad6",
   "metadata": {},
   "outputs": [],
   "source": [
    "# Function to create simulated dataset\n",
    "def create_simulated_dataset(fractions, func_1, func_2, noise_sd):\n",
    "    \n",
    "    # Initialize list to hold dataset\n",
    "    dat = []\n",
    "    \n",
    "    # Loop through to create dataset\n",
    "    for fraction in fractions:\n",
    "    \n",
    "        # Define fractional components for each function\n",
    "        function_1_fraction = fraction\n",
    "        function_2_fraction = np.round(1 - fraction,2)\n",
    "    \n",
    "        # Multiply signal values by fraction\n",
    "        func_1_fraction = func_1*function_1_fraction\n",
    "        func_2_fraction = func_2*function_2_fraction\n",
    "    \n",
    "        # Add fractional signals together\n",
    "        y_sum_fraction = func_1_fraction + func_2_fraction\n",
    "        \n",
    "        # Add random white gaussian noise to summed-spectrum\n",
    "        noise = np.random.normal(0,noise_sd,len(y_sum_fraction))\n",
    "        y_sum_fraction = y_sum_fraction + noise\n",
    "    \n",
    "        # Append result\n",
    "        dat.append([function_1_fraction,\n",
    "                    function_2_fraction] + list(y_sum_fraction))\n",
    "\n",
    "    # Convert to dataframe\n",
    "    dat = pd.DataFrame(dat,\n",
    "                       columns = ['y1', 'y2',\n",
    "                                  'x1', 'x2', 'x3', 'x4', 'x5', 'x6',\n",
    "                                  'x7', 'x8', 'x9', 'x10', 'x11', 'x12'])\n",
    "    \n",
    "    # Return dataset\n",
    "    return(dat)"
   ]
  },
  {
   "cell_type": "code",
   "execution_count": 7,
   "id": "6570811e-ab39-46a9-a419-ae43d9979c5c",
   "metadata": {},
   "outputs": [
    {
     "data": {
      "text/html": [
       "<div>\n",
       "<style scoped>\n",
       "    .dataframe tbody tr th:only-of-type {\n",
       "        vertical-align: middle;\n",
       "    }\n",
       "\n",
       "    .dataframe tbody tr th {\n",
       "        vertical-align: top;\n",
       "    }\n",
       "\n",
       "    .dataframe thead th {\n",
       "        text-align: right;\n",
       "    }\n",
       "</style>\n",
       "<table border=\"1\" class=\"dataframe\">\n",
       "  <thead>\n",
       "    <tr style=\"text-align: right;\">\n",
       "      <th></th>\n",
       "      <th>y1</th>\n",
       "      <th>y2</th>\n",
       "      <th>x1</th>\n",
       "      <th>x2</th>\n",
       "      <th>x3</th>\n",
       "      <th>x4</th>\n",
       "      <th>x5</th>\n",
       "      <th>x6</th>\n",
       "      <th>x7</th>\n",
       "      <th>x8</th>\n",
       "      <th>x9</th>\n",
       "      <th>x10</th>\n",
       "      <th>x11</th>\n",
       "      <th>x12</th>\n",
       "    </tr>\n",
       "  </thead>\n",
       "  <tbody>\n",
       "    <tr>\n",
       "      <th>0</th>\n",
       "      <td>0.00</td>\n",
       "      <td>1.00</td>\n",
       "      <td>0.200</td>\n",
       "      <td>0.246503</td>\n",
       "      <td>0.295169</td>\n",
       "      <td>0.346099</td>\n",
       "      <td>0.399396</td>\n",
       "      <td>0.455172</td>\n",
       "      <td>0.513542</td>\n",
       "      <td>0.574626</td>\n",
       "      <td>0.638551</td>\n",
       "      <td>0.705449</td>\n",
       "      <td>0.775457</td>\n",
       "      <td>0.848721</td>\n",
       "    </tr>\n",
       "    <tr>\n",
       "      <th>1</th>\n",
       "      <td>0.01</td>\n",
       "      <td>0.99</td>\n",
       "      <td>0.208</td>\n",
       "      <td>0.252376</td>\n",
       "      <td>0.299169</td>\n",
       "      <td>0.348433</td>\n",
       "      <td>0.400234</td>\n",
       "      <td>0.454649</td>\n",
       "      <td>0.511766</td>\n",
       "      <td>0.571681</td>\n",
       "      <td>0.634501</td>\n",
       "      <td>0.700341</td>\n",
       "      <td>0.769326</td>\n",
       "      <td>0.841587</td>\n",
       "    </tr>\n",
       "    <tr>\n",
       "      <th>2</th>\n",
       "      <td>0.02</td>\n",
       "      <td>0.98</td>\n",
       "      <td>0.216</td>\n",
       "      <td>0.258248</td>\n",
       "      <td>0.303169</td>\n",
       "      <td>0.350768</td>\n",
       "      <td>0.401073</td>\n",
       "      <td>0.454127</td>\n",
       "      <td>0.509989</td>\n",
       "      <td>0.568735</td>\n",
       "      <td>0.630450</td>\n",
       "      <td>0.695233</td>\n",
       "      <td>0.763194</td>\n",
       "      <td>0.834454</td>\n",
       "    </tr>\n",
       "    <tr>\n",
       "      <th>3</th>\n",
       "      <td>0.03</td>\n",
       "      <td>0.97</td>\n",
       "      <td>0.224</td>\n",
       "      <td>0.264121</td>\n",
       "      <td>0.307169</td>\n",
       "      <td>0.353103</td>\n",
       "      <td>0.401911</td>\n",
       "      <td>0.453604</td>\n",
       "      <td>0.508213</td>\n",
       "      <td>0.565789</td>\n",
       "      <td>0.626400</td>\n",
       "      <td>0.690126</td>\n",
       "      <td>0.757063</td>\n",
       "      <td>0.827320</td>\n",
       "    </tr>\n",
       "    <tr>\n",
       "      <th>4</th>\n",
       "      <td>0.04</td>\n",
       "      <td>0.96</td>\n",
       "      <td>0.232</td>\n",
       "      <td>0.269993</td>\n",
       "      <td>0.311168</td>\n",
       "      <td>0.355438</td>\n",
       "      <td>0.402749</td>\n",
       "      <td>0.453081</td>\n",
       "      <td>0.506437</td>\n",
       "      <td>0.562844</td>\n",
       "      <td>0.622349</td>\n",
       "      <td>0.685018</td>\n",
       "      <td>0.750932</td>\n",
       "      <td>0.820186</td>\n",
       "    </tr>\n",
       "    <tr>\n",
       "      <th>...</th>\n",
       "      <td>...</td>\n",
       "      <td>...</td>\n",
       "      <td>...</td>\n",
       "      <td>...</td>\n",
       "      <td>...</td>\n",
       "      <td>...</td>\n",
       "      <td>...</td>\n",
       "      <td>...</td>\n",
       "      <td>...</td>\n",
       "      <td>...</td>\n",
       "      <td>...</td>\n",
       "      <td>...</td>\n",
       "      <td>...</td>\n",
       "      <td>...</td>\n",
       "    </tr>\n",
       "    <tr>\n",
       "      <th>96</th>\n",
       "      <td>0.96</td>\n",
       "      <td>0.04</td>\n",
       "      <td>0.968</td>\n",
       "      <td>0.810263</td>\n",
       "      <td>0.679145</td>\n",
       "      <td>0.570239</td>\n",
       "      <td>0.479872</td>\n",
       "      <td>0.404982</td>\n",
       "      <td>0.343016</td>\n",
       "      <td>0.291849</td>\n",
       "      <td>0.249708</td>\n",
       "      <td>0.215117</td>\n",
       "      <td>0.186846</td>\n",
       "      <td>0.163871</td>\n",
       "    </tr>\n",
       "    <tr>\n",
       "      <th>97</th>\n",
       "      <td>0.97</td>\n",
       "      <td>0.03</td>\n",
       "      <td>0.976</td>\n",
       "      <td>0.816135</td>\n",
       "      <td>0.683145</td>\n",
       "      <td>0.572574</td>\n",
       "      <td>0.480710</td>\n",
       "      <td>0.404459</td>\n",
       "      <td>0.341240</td>\n",
       "      <td>0.288904</td>\n",
       "      <td>0.245658</td>\n",
       "      <td>0.210010</td>\n",
       "      <td>0.180715</td>\n",
       "      <td>0.156737</td>\n",
       "    </tr>\n",
       "    <tr>\n",
       "      <th>98</th>\n",
       "      <td>0.98</td>\n",
       "      <td>0.02</td>\n",
       "      <td>0.984</td>\n",
       "      <td>0.822008</td>\n",
       "      <td>0.687144</td>\n",
       "      <td>0.574909</td>\n",
       "      <td>0.481549</td>\n",
       "      <td>0.403936</td>\n",
       "      <td>0.339464</td>\n",
       "      <td>0.285958</td>\n",
       "      <td>0.241607</td>\n",
       "      <td>0.204902</td>\n",
       "      <td>0.174583</td>\n",
       "      <td>0.149603</td>\n",
       "    </tr>\n",
       "    <tr>\n",
       "      <th>99</th>\n",
       "      <td>0.99</td>\n",
       "      <td>0.01</td>\n",
       "      <td>0.992</td>\n",
       "      <td>0.827880</td>\n",
       "      <td>0.691144</td>\n",
       "      <td>0.577243</td>\n",
       "      <td>0.482387</td>\n",
       "      <td>0.403413</td>\n",
       "      <td>0.337687</td>\n",
       "      <td>0.283012</td>\n",
       "      <td>0.237557</td>\n",
       "      <td>0.199794</td>\n",
       "      <td>0.168452</td>\n",
       "      <td>0.142469</td>\n",
       "    </tr>\n",
       "    <tr>\n",
       "      <th>100</th>\n",
       "      <td>1.00</td>\n",
       "      <td>0.00</td>\n",
       "      <td>1.000</td>\n",
       "      <td>0.833753</td>\n",
       "      <td>0.695144</td>\n",
       "      <td>0.579578</td>\n",
       "      <td>0.483225</td>\n",
       "      <td>0.402890</td>\n",
       "      <td>0.335911</td>\n",
       "      <td>0.280067</td>\n",
       "      <td>0.233506</td>\n",
       "      <td>0.194687</td>\n",
       "      <td>0.162321</td>\n",
       "      <td>0.135335</td>\n",
       "    </tr>\n",
       "  </tbody>\n",
       "</table>\n",
       "<p>101 rows × 14 columns</p>\n",
       "</div>"
      ],
      "text/plain": [
       "       y1    y2     x1        x2        x3        x4        x5        x6  \\\n",
       "0    0.00  1.00  0.200  0.246503  0.295169  0.346099  0.399396  0.455172   \n",
       "1    0.01  0.99  0.208  0.252376  0.299169  0.348433  0.400234  0.454649   \n",
       "2    0.02  0.98  0.216  0.258248  0.303169  0.350768  0.401073  0.454127   \n",
       "3    0.03  0.97  0.224  0.264121  0.307169  0.353103  0.401911  0.453604   \n",
       "4    0.04  0.96  0.232  0.269993  0.311168  0.355438  0.402749  0.453081   \n",
       "..    ...   ...    ...       ...       ...       ...       ...       ...   \n",
       "96   0.96  0.04  0.968  0.810263  0.679145  0.570239  0.479872  0.404982   \n",
       "97   0.97  0.03  0.976  0.816135  0.683145  0.572574  0.480710  0.404459   \n",
       "98   0.98  0.02  0.984  0.822008  0.687144  0.574909  0.481549  0.403936   \n",
       "99   0.99  0.01  0.992  0.827880  0.691144  0.577243  0.482387  0.403413   \n",
       "100  1.00  0.00  1.000  0.833753  0.695144  0.579578  0.483225  0.402890   \n",
       "\n",
       "           x7        x8        x9       x10       x11       x12  \n",
       "0    0.513542  0.574626  0.638551  0.705449  0.775457  0.848721  \n",
       "1    0.511766  0.571681  0.634501  0.700341  0.769326  0.841587  \n",
       "2    0.509989  0.568735  0.630450  0.695233  0.763194  0.834454  \n",
       "3    0.508213  0.565789  0.626400  0.690126  0.757063  0.827320  \n",
       "4    0.506437  0.562844  0.622349  0.685018  0.750932  0.820186  \n",
       "..        ...       ...       ...       ...       ...       ...  \n",
       "96   0.343016  0.291849  0.249708  0.215117  0.186846  0.163871  \n",
       "97   0.341240  0.288904  0.245658  0.210010  0.180715  0.156737  \n",
       "98   0.339464  0.285958  0.241607  0.204902  0.174583  0.149603  \n",
       "99   0.337687  0.283012  0.237557  0.199794  0.168452  0.142469  \n",
       "100  0.335911  0.280067  0.233506  0.194687  0.162321  0.135335  \n",
       "\n",
       "[101 rows x 14 columns]"
      ]
     },
     "execution_count": 7,
     "metadata": {},
     "output_type": "execute_result"
    }
   ],
   "source": [
    "# Create example dataset\n",
    "simulated_dataset = create_simulated_dataset(fractional_components, y_decay, y_exp, 0)\n",
    "simulated_dataset"
   ]
  },
  {
   "cell_type": "markdown",
   "id": "fa0767a3-cc83-4af7-bf39-10e64d954c70",
   "metadata": {},
   "source": [
    "# II. spectral unmixing"
   ]
  },
  {
   "cell_type": "markdown",
   "id": "c706d254-7ba9-4592-9004-37ff7810fd7f",
   "metadata": {},
   "source": [
    "## a) basic concept on single spectrum"
   ]
  },
  {
   "cell_type": "markdown",
   "id": "304d83f5-e92b-435e-9d9a-a792a922e807",
   "metadata": {},
   "source": [
    "### X --> 100% Hb and 100% HbO<sub>2</sub> msot spectra"
   ]
  },
  {
   "cell_type": "code",
   "execution_count": 8,
   "id": "61689aa3-9b41-443d-995f-bac2407cdbf6",
   "metadata": {},
   "outputs": [
    {
     "data": {
      "text/plain": [
       "array([[1.        , 0.2       ],\n",
       "       [0.83375292, 0.24650344],\n",
       "       [0.69514393, 0.29516944],\n",
       "       [0.57957828, 0.34609858],\n",
       "       [0.48322508, 0.3993961 ],\n",
       "       [0.40289032, 0.45517214],\n",
       "       [0.33591098, 0.51354196],\n",
       "       [0.28006676, 0.57462617],\n",
       "       [0.23350648, 0.63855101],\n",
       "       [0.19468671, 0.70544857],\n",
       "       [0.16232061, 0.7754571 ],\n",
       "       [0.13533528, 0.84872127]])"
      ]
     },
     "execution_count": 8,
     "metadata": {},
     "output_type": "execute_result"
    }
   ],
   "source": [
    "# Define X\n",
    "y1_100 = np.squeeze(simulated_dataset.iloc[len(simulated_dataset)-1,\n",
    "                                           2:].to_numpy())\n",
    "y2_100 = np.squeeze(simulated_dataset.iloc[0,\n",
    "                                           2:].to_numpy())\n",
    "\n",
    "X = np.array([y1_100, y2_100]).T\n",
    "X"
   ]
  },
  {
   "cell_type": "markdown",
   "id": "c735c588-3e51-41ca-9060-4e252ce0f72f",
   "metadata": {},
   "source": [
    "### y --> msot spectra at user defined fractional components"
   ]
  },
  {
   "cell_type": "code",
   "execution_count": 9,
   "id": "caedbb8d-ea6a-4f0b-8d35-9f0b95de1268",
   "metadata": {},
   "outputs": [
    {
     "data": {
      "text/plain": [
       "array([0.456     , 0.43442327, 0.42316128, 0.42081208, 0.42622138,\n",
       "       0.43844196, 0.45670004, 0.48036716, 0.50893676, 0.54200478,\n",
       "       0.57925343, 0.62043775])"
      ]
     },
     "execution_count": 9,
     "metadata": {},
     "output_type": "execute_result"
    }
   ],
   "source": [
    "# User defined y signal at given y1, y2 fractional components\n",
    "y1_frac = 0.32 # User defined\n",
    "dat_temp = simulated_dataset.loc[simulated_dataset['y1']==y1_frac].copy()\n",
    "y = np.squeeze(dat_temp.iloc[:,2:].to_numpy())\n",
    "y"
   ]
  },
  {
   "cell_type": "markdown",
   "id": "817e0974-05f5-469b-b396-77dbbf6bb383",
   "metadata": {},
   "source": [
    "### estimate fractional components of y using spectral unmixing"
   ]
  },
  {
   "cell_type": "code",
   "execution_count": 10,
   "id": "9e41550c-2b7b-42d6-a3da-a5ae33417073",
   "metadata": {},
   "outputs": [
    {
     "name": "stdout",
     "output_type": "stream",
     "text": [
      "y1 estimate: 0.32\n",
      "y2 estimate: 0.68\n"
     ]
    }
   ],
   "source": [
    "# Use spectral unmixing to get fractional components\n",
    "linear_regressor = LinearRegression(fit_intercept=False)\n",
    "linear_regressor.fit(X, y)\n",
    "\n",
    "# Estimated fractional components (y1_frac, y2_frac)\n",
    "y1_estimate, y2_estimate = linear_regressor.coef_\n",
    "\n",
    "print('y1 estimate: ' + str(np.round(y1_estimate,2)))\n",
    "print('y2 estimate: ' + str(np.round(y2_estimate,2)))"
   ]
  },
  {
   "cell_type": "markdown",
   "id": "ac7514b9-f04a-4abd-9aa8-0e7f09c2c55d",
   "metadata": {},
   "source": [
    "### estimated components of y1 and y2 in msot spectrum"
   ]
  },
  {
   "cell_type": "code",
   "execution_count": 11,
   "id": "ac645cba-162a-4920-8b38-918aee988754",
   "metadata": {},
   "outputs": [
    {
     "data": {
      "image/png": "[encoded data removed]",
      "text/plain": [
       "<Figure size 432x288 with 1 Axes>"
      ]
     },
     "metadata": {
      "needs_background": "light"
     },
     "output_type": "display_data"
    }
   ],
   "source": [
    "# Plot\n",
    "plt.plot(x, y, label = \"signal\") # Raw Signal\n",
    "\n",
    "# y signals for each components based on regression estimates\n",
    "## y1\n",
    "y1_frac = y1_estimate\n",
    "y1_signal = y_decay*y1_frac\n",
    "plt.plot(x, y1_signal, label = \"estimated y1 component\")\n",
    "## y2\n",
    "y2_frac = y2_estimate\n",
    "y2_signal = y_exp*y2_frac\n",
    "plt.plot(x, y2_signal, label = \"estimated y2 component\")\n",
    "\n",
    "# Plot\n",
    "plt.legend()\n",
    "plt.show()"
   ]
  },
  {
   "cell_type": "markdown",
   "id": "73403645-c6df-48ed-b423-e49034a875f6",
   "metadata": {},
   "source": [
    "## b) Calculate rmse of estimates on all spectra in dataset"
   ]
  },
  {
   "cell_type": "code",
   "execution_count": 12,
   "id": "10be9a29-768b-4f9a-b7fd-7969e7f0d711",
   "metadata": {},
   "outputs": [
    {
     "name": "stdout",
     "output_type": "stream",
     "text": [
      "rmse_y1: 2.0027070464350204e-16\n",
      "rmse_y2: 1.3202777927530697e-16\n"
     ]
    }
   ],
   "source": [
    "# Define actual y1s and y2s\n",
    "y1s = list(simulated_dataset['y1'].values)\n",
    "y2s = list(simulated_dataset['y2'].values)\n",
    "\n",
    "# Preallocate lists to hold y1 and y2 estimates\n",
    "y1_estimates = []\n",
    "y2_estimates = []\n",
    "\n",
    "# Define linear regressor\n",
    "linear_regressor = LinearRegression(fit_intercept=False, positive=True)\n",
    "\n",
    "# Loop through each spectrum and estimate y1 and y2 using spectral unmixing\n",
    "for spectrum_iterator in range(len(simulated_dataset)):\n",
    "    y = np.squeeze(simulated_dataset.iloc[spectrum_iterator,\n",
    "                                          2:].to_numpy())\n",
    "    # Use spectral unmixing to get fractional components\n",
    "    linear_regressor.fit(X, y)\n",
    "\n",
    "    # Estimated fractional components (y1_frac, y2_frac)\n",
    "    y1_estimate, y2_estimate = linear_regressor.coef_\n",
    "    \n",
    "    # Append results\n",
    "    y1_estimates.append(y1_estimate)\n",
    "    y2_estimates.append(y2_estimate)\n",
    "    \n",
    "# Calculate rmse for y1 and y2\n",
    "rmse_y1 = mean_squared_error(np.array(y1s), np.array(y1_estimates), \n",
    "                             squared=False)\n",
    "print('rmse_y1: ' + str(rmse_y1))\n",
    "rmse_y2 = mean_squared_error(np.array(y2s), np.array(y2_estimates), \n",
    "                             squared=False)\n",
    "print('rmse_y2: ' + str(rmse_y2))"
   ]
  },
  {
   "cell_type": "code",
   "execution_count": null,
   "id": "74935b7a-4371-489e-838d-0b6c23874fb0",
   "metadata": {},
   "outputs": [],
   "source": []
  }
 ],
 "metadata": {
  "kernelspec": {
   "display_name": "Python 3 (ipykernel)",
   "language": "python",
   "name": "python3"
  },
  "language_info": {
   "codemirror_mode": {
    "name": "ipython",
    "version": 3
   },
   "file_extension": ".py",
   "mimetype": "text/x-python",
   "name": "python",
   "nbconvert_exporter": "python",
   "pygments_lexer": "ipython3",
   "version": "3.10.1"
  }
 },
 "nbformat": 4,
 "nbformat_minor": 5
}
