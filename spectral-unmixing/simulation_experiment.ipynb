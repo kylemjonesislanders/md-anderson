{
 "cells": [
  {
   "cell_type": "markdown",
   "id": "565c3c0e-bfc3-4a6a-9418-428f3cf8671f",
   "metadata": {},
   "source": [
    "# Import Libraries needed to run notebook"
   ]
  },
  {
   "cell_type": "code",
   "execution_count": 1,
   "id": "a2a2adef-ffb4-45bd-9140-cff9c378f39a",
   "metadata": {},
   "outputs": [],
   "source": [
    "# Import libraries\n",
    "import pandas as pd\n",
    "import numpy as np"
   ]
  },
  {
   "cell_type": "markdown",
   "id": "3f171637-ee47-428b-9118-3732000df9e2",
   "metadata": {},
   "source": [
    "# Create Simulated Dataset"
   ]
  },
  {
   "cell_type": "code",
   "execution_count": null,
   "id": "ee6da0bb-79fc-4bf6-a5c6-8220c20b4c2c",
   "metadata": {},
   "outputs": [],
   "source": []
  }
 ],
 "metadata": {
  "kernelspec": {
   "display_name": "Python 3 (ipykernel)",
   "language": "python",
   "name": "python3"
  },
  "language_info": {
   "codemirror_mode": {
    "name": "ipython",
    "version": 3
   },
   "file_extension": ".py",
   "mimetype": "text/x-python",
   "name": "python",
   "nbconvert_exporter": "python",
   "pygments_lexer": "ipython3",
   "version": "3.10.1"
  }
 },
 "nbformat": 4,
 "nbformat_minor": 5
}
