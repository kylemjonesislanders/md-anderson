{
 "cells": [
  {
   "cell_type": "markdown",
   "id": "e7872d7d-16a9-4768-b364-1035d983cf00",
   "metadata": {},
   "source": [
    "# Import Libraries needed to run notebook"
   ]
  },
  {
   "cell_type": "code",
   "execution_count": 1,
   "id": "7406df58-791d-474b-b85b-5caf8b6e6e1a",
   "metadata": {},
   "outputs": [],
   "source": [
    "# Import libraries\n",
    "import pandas as pd\n",
    "import numpy as np\n",
    "import matplotlib.pyplot as plt\n",
    "import seaborn as sns"
   ]
  },
  {
   "cell_type": "markdown",
   "id": "5585b469-5c7f-45b0-808b-405b0d618ee8",
   "metadata": {},
   "source": [
    "# I. Read in Data"
   ]
  },
  {
   "cell_type": "code",
   "execution_count": 2,
   "id": "67215ac4-3fcf-49d7-a563-6a57f98605ad",
   "metadata": {},
   "outputs": [
    {
     "data": {
      "text/plain": [
       "[680, 700, 730, 760, 800, 850]"
      ]
     },
     "execution_count": 2,
     "metadata": {},
     "output_type": "execute_result"
    }
   ],
   "source": [
    "# Define optimal nm for 12 point spectrum\n",
    "nm_optimal = [680, 700, 730, 760, 800, 850]\n",
    "nm_optimal"
   ]
  },
  {
   "cell_type": "code",
   "execution_count": 3,
   "id": "7d7f3d9b-a5bb-4805-93c7-87a484001596",
   "metadata": {},
   "outputs": [
    {
     "data": {
      "text/html": [
       "<div>\n",
       "<style scoped>\n",
       "    .dataframe tbody tr th:only-of-type {\n",
       "        vertical-align: middle;\n",
       "    }\n",
       "\n",
       "    .dataframe tbody tr th {\n",
       "        vertical-align: top;\n",
       "    }\n",
       "\n",
       "    .dataframe thead th {\n",
       "        text-align: right;\n",
       "    }\n",
       "</style>\n",
       "<table border=\"1\" class=\"dataframe\">\n",
       "  <thead>\n",
       "    <tr style=\"text-align: right;\">\n",
       "      <th></th>\n",
       "      <th>nm</th>\n",
       "      <th>var1</th>\n",
       "      <th>var2</th>\n",
       "      <th>Hb_signal</th>\n",
       "    </tr>\n",
       "  </thead>\n",
       "  <tbody>\n",
       "    <tr>\n",
       "      <th>20</th>\n",
       "      <td>680</td>\n",
       "      <td>0000;2547</td>\n",
       "      <td>1957</td>\n",
       "      <td>1.000000</td>\n",
       "    </tr>\n",
       "    <tr>\n",
       "      <th>40</th>\n",
       "      <td>700</td>\n",
       "      <td>0000;1803</td>\n",
       "      <td>9736</td>\n",
       "      <td>0.707892</td>\n",
       "    </tr>\n",
       "    <tr>\n",
       "      <th>70</th>\n",
       "      <td>730</td>\n",
       "      <td>0000;1148</td>\n",
       "      <td>2775</td>\n",
       "      <td>0.450726</td>\n",
       "    </tr>\n",
       "    <tr>\n",
       "      <th>100</th>\n",
       "      <td>760</td>\n",
       "      <td>0000;1525</td>\n",
       "      <td>3238</td>\n",
       "      <td>0.598744</td>\n",
       "    </tr>\n",
       "    <tr>\n",
       "      <th>140</th>\n",
       "      <td>800</td>\n",
       "      <td>0000;778</td>\n",
       "      <td>2100</td>\n",
       "      <td>0.305457</td>\n",
       "    </tr>\n",
       "    <tr>\n",
       "      <th>190</th>\n",
       "      <td>850</td>\n",
       "      <td>0000;683</td>\n",
       "      <td>2000</td>\n",
       "      <td>0.268159</td>\n",
       "    </tr>\n",
       "  </tbody>\n",
       "</table>\n",
       "</div>"
      ],
      "text/plain": [
       "      nm       var1  var2  Hb_signal\n",
       "20   680  0000;2547  1957   1.000000\n",
       "40   700  0000;1803  9736   0.707892\n",
       "70   730  0000;1148  2775   0.450726\n",
       "100  760  0000;1525  3238   0.598744\n",
       "140  800   0000;778  2100   0.305457\n",
       "190  850   0000;683  2000   0.268159"
      ]
     },
     "execution_count": 3,
     "metadata": {},
     "output_type": "execute_result"
    }
   ],
   "source": [
    "# Read in Hb dat, filtering on nms of choice\n",
    "Hb_dat = pd.read_csv(r'Hb.csv')\n",
    "Hb_dat = Hb_dat.loc[Hb_dat['nm'].isin(nm_optimal)].copy()\n",
    "Hb_dat['Hb_signal'] = [int(x.split(';')[1]) for x in Hb_dat['var1']]\n",
    "\n",
    "# Save max signal for normalization purposes\n",
    "max_signal = np.max(Hb_dat['Hb_signal'])\n",
    "Hb_dat['Hb_signal'] = Hb_dat['Hb_signal']/max_signal\n",
    "Hb_dat"
   ]
  },
  {
   "cell_type": "code",
   "execution_count": 4,
   "id": "3a3f9e2b-4fb8-4f1a-bd5d-f4ed6c78f9ea",
   "metadata": {},
   "outputs": [
    {
     "data": {
      "text/html": [
       "<div>\n",
       "<style scoped>\n",
       "    .dataframe tbody tr th:only-of-type {\n",
       "        vertical-align: middle;\n",
       "    }\n",
       "\n",
       "    .dataframe tbody tr th {\n",
       "        vertical-align: top;\n",
       "    }\n",
       "\n",
       "    .dataframe thead th {\n",
       "        text-align: right;\n",
       "    }\n",
       "</style>\n",
       "<table border=\"1\" class=\"dataframe\">\n",
       "  <thead>\n",
       "    <tr style=\"text-align: right;\">\n",
       "      <th></th>\n",
       "      <th>nm</th>\n",
       "      <th>var1</th>\n",
       "      <th>var2</th>\n",
       "      <th>HbO2_signal</th>\n",
       "    </tr>\n",
       "  </thead>\n",
       "  <tbody>\n",
       "    <tr>\n",
       "      <th>20</th>\n",
       "      <td>680</td>\n",
       "      <td>0000;268</td>\n",
       "      <td>6262</td>\n",
       "      <td>0.105222</td>\n",
       "    </tr>\n",
       "    <tr>\n",
       "      <th>40</th>\n",
       "      <td>700</td>\n",
       "      <td>0000;285</td>\n",
       "      <td>5616</td>\n",
       "      <td>0.111896</td>\n",
       "    </tr>\n",
       "    <tr>\n",
       "      <th>70</th>\n",
       "      <td>730</td>\n",
       "      <td>0000;386</td>\n",
       "      <td>4001</td>\n",
       "      <td>0.151551</td>\n",
       "    </tr>\n",
       "    <tr>\n",
       "      <th>100</th>\n",
       "      <td>760</td>\n",
       "      <td>0000;592</td>\n",
       "      <td>7210</td>\n",
       "      <td>0.232430</td>\n",
       "    </tr>\n",
       "    <tr>\n",
       "      <th>140</th>\n",
       "      <td>800</td>\n",
       "      <td>0000;796</td>\n",
       "      <td>9595</td>\n",
       "      <td>0.312525</td>\n",
       "    </tr>\n",
       "    <tr>\n",
       "      <th>190</th>\n",
       "      <td>850</td>\n",
       "      <td>0000;1055</td>\n",
       "      <td>1370</td>\n",
       "      <td>0.414213</td>\n",
       "    </tr>\n",
       "  </tbody>\n",
       "</table>\n",
       "</div>"
      ],
      "text/plain": [
       "      nm       var1  var2  HbO2_signal\n",
       "20   680   0000;268  6262     0.105222\n",
       "40   700   0000;285  5616     0.111896\n",
       "70   730   0000;386  4001     0.151551\n",
       "100  760   0000;592  7210     0.232430\n",
       "140  800   0000;796  9595     0.312525\n",
       "190  850  0000;1055  1370     0.414213"
      ]
     },
     "execution_count": 4,
     "metadata": {},
     "output_type": "execute_result"
    }
   ],
   "source": [
    "# Read in HbO2 dat\n",
    "HbO2_dat = pd.read_csv(r'HbO2.csv')\n",
    "HbO2_dat = HbO2_dat.loc[HbO2_dat['nm'].isin(nm_optimal)].copy()\n",
    "HbO2_dat['HbO2_signal'] = [int(x.split(';')[1]) for x in HbO2_dat['var1']]\n",
    "HbO2_dat['HbO2_signal'] = HbO2_dat['HbO2_signal']/max_signal\n",
    "HbO2_dat"
   ]
  },
  {
   "cell_type": "code",
   "execution_count": 5,
   "id": "48a2f275-284c-4ea5-8c92-46d035d140a5",
   "metadata": {},
   "outputs": [
    {
     "data": {
      "text/html": [
       "<div>\n",
       "<style scoped>\n",
       "    .dataframe tbody tr th:only-of-type {\n",
       "        vertical-align: middle;\n",
       "    }\n",
       "\n",
       "    .dataframe tbody tr th {\n",
       "        vertical-align: top;\n",
       "    }\n",
       "\n",
       "    .dataframe thead th {\n",
       "        text-align: right;\n",
       "    }\n",
       "</style>\n",
       "<table border=\"1\" class=\"dataframe\">\n",
       "  <thead>\n",
       "    <tr style=\"text-align: right;\">\n",
       "      <th></th>\n",
       "      <th>nm</th>\n",
       "      <th>Hb_signal</th>\n",
       "      <th>HbO2_signal</th>\n",
       "    </tr>\n",
       "  </thead>\n",
       "  <tbody>\n",
       "    <tr>\n",
       "      <th>0</th>\n",
       "      <td>680</td>\n",
       "      <td>1.000000</td>\n",
       "      <td>0.105222</td>\n",
       "    </tr>\n",
       "    <tr>\n",
       "      <th>1</th>\n",
       "      <td>700</td>\n",
       "      <td>0.707892</td>\n",
       "      <td>0.111896</td>\n",
       "    </tr>\n",
       "    <tr>\n",
       "      <th>2</th>\n",
       "      <td>730</td>\n",
       "      <td>0.450726</td>\n",
       "      <td>0.151551</td>\n",
       "    </tr>\n",
       "    <tr>\n",
       "      <th>3</th>\n",
       "      <td>760</td>\n",
       "      <td>0.598744</td>\n",
       "      <td>0.232430</td>\n",
       "    </tr>\n",
       "    <tr>\n",
       "      <th>4</th>\n",
       "      <td>800</td>\n",
       "      <td>0.305457</td>\n",
       "      <td>0.312525</td>\n",
       "    </tr>\n",
       "    <tr>\n",
       "      <th>5</th>\n",
       "      <td>850</td>\n",
       "      <td>0.268159</td>\n",
       "      <td>0.414213</td>\n",
       "    </tr>\n",
       "  </tbody>\n",
       "</table>\n",
       "</div>"
      ],
      "text/plain": [
       "    nm  Hb_signal  HbO2_signal\n",
       "0  680   1.000000     0.105222\n",
       "1  700   0.707892     0.111896\n",
       "2  730   0.450726     0.151551\n",
       "3  760   0.598744     0.232430\n",
       "4  800   0.305457     0.312525\n",
       "5  850   0.268159     0.414213"
      ]
     },
     "execution_count": 5,
     "metadata": {},
     "output_type": "execute_result"
    }
   ],
   "source": [
    "# Combine datasets\n",
    "dat = Hb_dat[['nm','Hb_signal']].merge(HbO2_dat[['nm', 'HbO2_signal']], \n",
    "                                       on = 'nm')\n",
    "dat"
   ]
  },
  {
   "cell_type": "markdown",
   "id": "d7dc9caf-a1dc-4971-8fd4-a8f831189c33",
   "metadata": {},
   "source": [
    "# II. awgn plot"
   ]
  },
  {
   "cell_type": "code",
   "execution_count": 6,
   "id": "7daca3ba-7f37-43ed-837c-5a7a7fb91e31",
   "metadata": {},
   "outputs": [
    {
     "data": {
      "text/html": [
       "<div>\n",
       "<style scoped>\n",
       "    .dataframe tbody tr th:only-of-type {\n",
       "        vertical-align: middle;\n",
       "    }\n",
       "\n",
       "    .dataframe tbody tr th {\n",
       "        vertical-align: top;\n",
       "    }\n",
       "\n",
       "    .dataframe thead th {\n",
       "        text-align: right;\n",
       "    }\n",
       "</style>\n",
       "<table border=\"1\" class=\"dataframe\">\n",
       "  <thead>\n",
       "    <tr style=\"text-align: right;\">\n",
       "      <th></th>\n",
       "      <th>nm</th>\n",
       "      <th>Hb_signal</th>\n",
       "      <th>HbO2_signal</th>\n",
       "      <th>MSOT_signal_clean</th>\n",
       "      <th>MSOT_signal_0.01</th>\n",
       "      <th>MSOT_signal_0.05</th>\n",
       "      <th>MSOT_signal_0.1</th>\n",
       "      <th>MSOT_signal_0.2</th>\n",
       "    </tr>\n",
       "  </thead>\n",
       "  <tbody>\n",
       "    <tr>\n",
       "      <th>0</th>\n",
       "      <td>680</td>\n",
       "      <td>0.200000</td>\n",
       "      <td>0.084177</td>\n",
       "      <td>0.284177</td>\n",
       "      <td>0.291517</td>\n",
       "      <td>0.388179</td>\n",
       "      <td>0.160133</td>\n",
       "      <td>0.202916</td>\n",
       "    </tr>\n",
       "    <tr>\n",
       "      <th>1</th>\n",
       "      <td>700</td>\n",
       "      <td>0.141578</td>\n",
       "      <td>0.089517</td>\n",
       "      <td>0.231095</td>\n",
       "      <td>0.235669</td>\n",
       "      <td>0.218367</td>\n",
       "      <td>0.172346</td>\n",
       "      <td>0.299732</td>\n",
       "    </tr>\n",
       "    <tr>\n",
       "      <th>2</th>\n",
       "      <td>730</td>\n",
       "      <td>0.090145</td>\n",
       "      <td>0.121241</td>\n",
       "      <td>0.211386</td>\n",
       "      <td>0.212282</td>\n",
       "      <td>0.154447</td>\n",
       "      <td>0.113343</td>\n",
       "      <td>0.394274</td>\n",
       "    </tr>\n",
       "    <tr>\n",
       "      <th>3</th>\n",
       "      <td>760</td>\n",
       "      <td>0.119749</td>\n",
       "      <td>0.185944</td>\n",
       "      <td>0.305693</td>\n",
       "      <td>0.295524</td>\n",
       "      <td>0.301582</td>\n",
       "      <td>0.172712</td>\n",
       "      <td>0.596225</td>\n",
       "    </tr>\n",
       "    <tr>\n",
       "      <th>4</th>\n",
       "      <td>800</td>\n",
       "      <td>0.061091</td>\n",
       "      <td>0.250020</td>\n",
       "      <td>0.311111</td>\n",
       "      <td>0.297257</td>\n",
       "      <td>0.284796</td>\n",
       "      <td>0.210919</td>\n",
       "      <td>0.296721</td>\n",
       "    </tr>\n",
       "    <tr>\n",
       "      <th>5</th>\n",
       "      <td>850</td>\n",
       "      <td>0.053632</td>\n",
       "      <td>0.331370</td>\n",
       "      <td>0.385002</td>\n",
       "      <td>0.371736</td>\n",
       "      <td>0.395759</td>\n",
       "      <td>0.456737</td>\n",
       "      <td>0.583763</td>\n",
       "    </tr>\n",
       "  </tbody>\n",
       "</table>\n",
       "</div>"
      ],
      "text/plain": [
       "    nm  Hb_signal  HbO2_signal  MSOT_signal_clean  MSOT_signal_0.01  \\\n",
       "0  680   0.200000     0.084177           0.284177          0.291517   \n",
       "1  700   0.141578     0.089517           0.231095          0.235669   \n",
       "2  730   0.090145     0.121241           0.211386          0.212282   \n",
       "3  760   0.119749     0.185944           0.305693          0.295524   \n",
       "4  800   0.061091     0.250020           0.311111          0.297257   \n",
       "5  850   0.053632     0.331370           0.385002          0.371736   \n",
       "\n",
       "   MSOT_signal_0.05  MSOT_signal_0.1  MSOT_signal_0.2  \n",
       "0          0.388179         0.160133         0.202916  \n",
       "1          0.218367         0.172346         0.299732  \n",
       "2          0.154447         0.113343         0.394274  \n",
       "3          0.301582         0.172712         0.596225  \n",
       "4          0.284796         0.210919         0.296721  \n",
       "5          0.395759         0.456737         0.583763  "
      ]
     },
     "execution_count": 6,
     "metadata": {},
     "output_type": "execute_result"
    }
   ],
   "source": [
    "# Create dataset with user defined fractional components\n",
    "\n",
    "## User defined fractional components\n",
    "Hb_frac = 0.2\n",
    "HbO2_frac = 1-Hb_frac\n",
    "\n",
    "## Create fractional dataset\n",
    "dat_frac = dat.copy()\n",
    "dat_frac['Hb_signal'] = dat_frac['Hb_signal']*Hb_frac\n",
    "dat_frac['HbO2_signal'] = dat_frac['HbO2_signal']*HbO2_frac\n",
    "dat_frac['MSOT_signal_clean'] = dat_frac['Hb_signal'] +\\\n",
    "                                dat_frac['HbO2_signal']\n",
    "dat_frac['MSOT_signal_0.01'] = dat_frac['MSOT_signal_clean'] +\\\n",
    "                               np.random.normal(0,0.01,6)\n",
    "dat_frac['MSOT_signal_0.05'] = dat_frac['MSOT_signal_clean'] +\\\n",
    "                               np.random.normal(0,0.05,6)\n",
    "dat_frac['MSOT_signal_0.1'] = dat_frac['MSOT_signal_clean'] +\\\n",
    "                              np.random.normal(0,0.1,6)\n",
    "dat_frac['MSOT_signal_0.2'] = dat_frac['MSOT_signal_clean'] +\\\n",
    "                              np.random.normal(0,0.2,6)\n",
    "dat_frac"
   ]
  },
  {
   "cell_type": "code",
   "execution_count": 7,
   "id": "2512f0a6-e857-4a8a-9c23-7308d2cdfcec",
   "metadata": {},
   "outputs": [
    {
     "data": {
      "text/plain": [
       "<matplotlib.legend.Legend at 0x12b01fa60>"
      ]
     },
     "execution_count": 7,
     "metadata": {},
     "output_type": "execute_result"
    },
    {
     "data": {
      "image/png": "[encoded data removed]",
      "text/plain": [
       "<Figure size 540x360 with 1 Axes>"
      ]
     },
     "metadata": {
      "needs_background": "light"
     },
     "output_type": "display_data"
    }
   ],
   "source": [
    "# Plot clean\n",
    "fig, ax = plt.subplots(1,1, figsize = (7.5,5))\n",
    "ax.plot(dat_frac['nm'], dat_frac['MSOT_signal_clean'], \n",
    "         label = \"Clean MSOT signal\") # Raw Signal\n",
    "\n",
    "# Hb component\n",
    "ax.plot(dat_frac['nm'], dat_frac['Hb_signal'], \n",
    "         label = \"Hb component\")\n",
    "# HbO2 component\n",
    "ax.plot(dat_frac['nm'], dat_frac['HbO2_signal'], \n",
    "         label = \"HbO2 component\")\n",
    "\n",
    "# Plot\n",
    "ax.legend()"
   ]
  },
  {
   "cell_type": "code",
   "execution_count": 8,
   "id": "91c67770-a252-414e-aa34-98e0324eae5d",
   "metadata": {},
   "outputs": [
    {
     "data": {
      "text/plain": [
       "(0.05, 0.4)"
      ]
     },
     "execution_count": 8,
     "metadata": {},
     "output_type": "execute_result"
    },
    {
     "data": {
      "image/png": "[encoded data removed]",
      "text/plain": [
       "<Figure size 1080x720 with 4 Axes>"
      ]
     },
     "metadata": {
      "needs_background": "light"
     },
     "output_type": "display_data"
    }
   ],
   "source": [
    "# Plot\n",
    "fig, axs = plt.subplots(2, 2, figsize = (15,10))\n",
    "# Noise Level 0.01\n",
    "axs[0, 0].plot(dat_frac['nm'], dat_frac['MSOT_signal_0.01'])\n",
    "axs[0, 0].title.set_text('awgn = 0.01')\n",
    "axs[0, 0].set_ylim(bottom = 0.05, top = 0.40)\n",
    "# Noise Level 0.05\n",
    "axs[0, 1].plot(dat_frac['nm'], dat_frac['MSOT_signal_0.05'])\n",
    "axs[0, 1].title.set_text('awgn = 0.05')\n",
    "axs[0, 1].set_ylim(bottom = 0.05, top = 0.40)\n",
    "# Noise Level 0.1\n",
    "axs[1, 0].plot(dat_frac['nm'], dat_frac['MSOT_signal_0.1'])\n",
    "axs[1, 0].title.set_text('awgn = 0.1')\n",
    "axs[1, 0].set_ylim(bottom = 0.05, top = 0.40)\n",
    "# Noise Level 0.2\n",
    "axs[1, 1].plot(dat_frac['nm'], dat_frac['MSOT_signal_0.2'])\n",
    "axs[1, 1].title.set_text('awgn = 0.2')\n",
    "axs[1, 1].set_ylim(bottom = 0.05, top = 0.40)"
   ]
  },
  {
   "cell_type": "code",
   "execution_count": null,
   "id": "4db1b9d1-7c49-4dea-9f5f-11462eeff355",
   "metadata": {},
   "outputs": [],
   "source": []
  }
 ],
 "metadata": {
  "kernelspec": {
   "display_name": "Python 3 (ipykernel)",
   "language": "python",
   "name": "python3"
  },
  "language_info": {
   "codemirror_mode": {
    "name": "ipython",
    "version": 3
   },
   "file_extension": ".py",
   "mimetype": "text/x-python",
   "name": "python",
   "nbconvert_exporter": "python",
   "pygments_lexer": "ipython3",
   "version": "3.10.1"
  }
 },
 "nbformat": 4,
 "nbformat_minor": 5
}
