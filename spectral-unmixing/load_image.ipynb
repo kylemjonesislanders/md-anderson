{
 "cells": [
  {
   "cell_type": "code",
   "execution_count": 1,
   "id": "d2a813e4-bc49-4bf7-a497-37f4817a8bde",
   "metadata": {},
   "outputs": [
    {
     "name": "stdout",
     "output_type": "stream",
     "text": [
      "** INFO    ** [<unknown>            000000000000] Setting LogLevel to 20\n"
     ]
    }
   ],
   "source": [
    "# Importing relevant libraries\n",
    "import matplotlib.pyplot as plt\n",
    "import numpy as np\n",
    "from ilib.datamodel import iScan, iSignal"
   ]
  },
  {
   "cell_type": "code",
   "execution_count": null,
   "id": "4ed8d390-aac2-436a-a166-17cc0bf7031b",
   "metadata": {},
   "outputs": [],
   "source": []
  }
 ],
 "metadata": {
  "kernelspec": {
   "display_name": "iTheraPY_v1.0.30",
   "language": "python",
   "name": "itherapy_v1.0.30"
  },
  "language_info": {
   "codemirror_mode": {
    "name": "ipython",
    "version": 3
   },
   "file_extension": ".py",
   "mimetype": "text/x-python",
   "name": "python",
   "nbconvert_exporter": "python",
   "pygments_lexer": "ipython3",
   "version": "3.8.2"
  }
 },
 "nbformat": 4,
 "nbformat_minor": 5
}
