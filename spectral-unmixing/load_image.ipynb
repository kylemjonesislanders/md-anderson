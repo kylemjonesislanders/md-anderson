{
 "cells": [
  {
   "cell_type": "markdown",
   "id": "4da4174b-a199-4de0-b709-c16a54e7f766",
   "metadata": {},
   "source": [
    "## Accessing Dataset"
   ]
  },
  {
   "cell_type": "code",
   "execution_count": 1,
   "id": "3fb23f0b-a6e7-4765-b84d-acd932c4a6a7",
   "metadata": {},
   "outputs": [
    {
     "name": "stdout",
     "output_type": "stream",
     "text": [
      "** INFO    ** [<unknown>            000000000000] Setting LogLevel to 20\n",
      "Listing for \".\\data\\Test_Study\":\n",
      "\n",
      "| Name           | FolderName   |   Sweeps | Date                        | Study      | Path               |\n",
      "|----------------+--------------+----------+-----------------------------+------------+--------------------|\n",
      "| Day-1_SuM1_air | Scan_1       |       40 | 2021-04-19 08:52:00 (-0500) | Test_Study | Scan_1\\Scan_1.msot |\n",
      "| Day-1_SuM1_O2  | Scan_2       |       40 | 2021-04-19 08:58:44 (-0500) | Test_Study | Scan_2\\Scan_2.msot |\n",
      "| Day-1_SuM1_ICG | Scan_3       |      200 | 2021-04-19 09:01:39 (-0500) | Test_Study | Scan_3\\Scan_3.msot |\n",
      "\n",
      "Output produced in 0.732 seconds\n"
     ]
    },
    {
     "data": {
      "text/plain": [
       "([<iScan D#2PW0YHatM31fsgAu at AAACK9JhGRA=>,\n",
       "  <iScan D#BLVYsoJQkQ2z4RDN at AAACK9k6uRA=>,\n",
       "  <iScan D#bbALfahurgNOn2i+ at AAACK9k70cA=>],\n",
       " '| Name           | FolderName   |   Sweeps | Date                        | Study      | Path               |\\n|----------------+--------------+----------+-----------------------------+------------+--------------------|\\n| Day-1_SuM1_air | Scan_1       |       40 | 2021-04-19 08:52:00 (-0500) | Test_Study | Scan_1\\\\Scan_1.msot |\\n| Day-1_SuM1_O2  | Scan_2       |       40 | 2021-04-19 08:58:44 (-0500) | Test_Study | Scan_2\\\\Scan_2.msot |\\n| Day-1_SuM1_ICG | Scan_3       |      200 | 2021-04-19 09:01:39 (-0500) | Test_Study | Scan_3\\\\Scan_3.msot |')"
      ]
     },
     "execution_count": 1,
     "metadata": {},
     "output_type": "execute_result"
    }
   ],
   "source": [
    "# Getting list of scans inside a study folder\n",
    "from ilib.datamodel import iScan\n",
    "iScan.list(r'.\\data\\Test_Study')"
   ]
  },
  {
   "cell_type": "code",
   "execution_count": 2,
   "id": "53180341-7181-42b8-9a2f-7a8c119f502d",
   "metadata": {},
   "outputs": [
    {
     "data": {
      "text/plain": [
       "<iScan D#2PW0YHatM31fsgAu at AAACK9k73BA=>"
      ]
     },
     "execution_count": 2,
     "metadata": {},
     "output_type": "execute_result"
    }
   ],
   "source": [
    "# Access individual dataset\n",
    "from ilib.datamodel import iScan\n",
    "scan = iScan(r'.\\data\\Test_Study\\Scan_1\\Scan_1.msot')\n",
    "scan"
   ]
  },
  {
   "cell_type": "code",
   "execution_count": 3,
   "id": "6b0aff4f-6b12-4ce7-b076-16bbc7db5c4b",
   "metadata": {},
   "outputs": [
    {
     "name": "stdout",
     "output_type": "stream",
     "text": [
      "Number of Frames (Signals) in the dataset: 240\n",
      "Number of Sweeps: 40\n",
      "Number of Wavelengths: 6\n"
     ]
    },
    {
     "data": {
      "text/plain": [
       "<mmap.mmap at 0x22bdb37e450>"
      ]
     },
     "execution_count": 3,
     "metadata": {},
     "output_type": "execute_result"
    }
   ],
   "source": [
    "# Some Scan Properties\n",
    "print('Number of Frames (Signals) in the dataset: ' + str(scan.NFrames))\n",
    "print('Number of Sweeps: ' + str(scan.NSweep)) # 1 sweep equivalent to multispectral image\n",
    "print('Number of Wavelengths: ' + str(scan.NWavelengths))\n",
    "scan.openSignalFile()"
   ]
  },
  {
   "cell_type": "markdown",
   "id": "a91f2fb9-208d-49b3-8e1f-aa8b1625e80c",
   "metadata": {},
   "source": [
    "## Loading of Signals"
   ]
  },
  {
   "cell_type": "code",
   "execution_count": 4,
   "id": "f9a58391-53c8-4a65-aeb1-a642fd4a6253",
   "metadata": {},
   "outputs": [
    {
     "data": {
      "text/plain": [
       "(40, 6, 256, 2030)"
      ]
     },
     "execution_count": 4,
     "metadata": {},
     "output_type": "execute_result"
    }
   ],
   "source": [
    "import matplotlib.pyplot as plt\n",
    "import numpy as np\n",
    "from ilib.datamodel import iScan, iSignal\n",
    "\n",
    "\n",
    "# Access the dataset\n",
    "scan = iScan('.\\data\\Test_Study\\Scan_1\\Scan_1.msot')\n",
    "\n",
    "# Load all signals as an array\n",
    "signals = iSignal.from_scan(scan)\n",
    "signals.shape"
   ]
  },
  {
   "cell_type": "code",
   "execution_count": 5,
   "id": "cc747e93-5223-46c5-9bc1-620345b54f04",
   "metadata": {},
   "outputs": [
    {
     "data": {
      "text/plain": [
       "(1, 6, 256, 2030)"
      ]
     },
     "execution_count": 5,
     "metadata": {},
     "output_type": "execute_result"
    }
   ],
   "source": [
    "# Get Sweep number 5 (first sweep is 0) - Sweep is one cycle of wavelengths\n",
    "signal = iSignal.from_scan(scan, [4])\n",
    "\n",
    "# Get shape of signal array\n",
    "# OUT: (1, 6, 256, 2030)\n",
    "# Dimensions: \n",
    "#   0: number of sweeps\n",
    "#   1: number of wavelengths\n",
    "#   2: number of detectors\n",
    "#   3: number of time samples\n",
    "signal.shape"
   ]
  },
  {
   "cell_type": "code",
   "execution_count": 6,
   "id": "f76c16db-7b34-44ec-a0d8-b22cf26309b1",
   "metadata": {},
   "outputs": [
    {
     "data": {
      "text/plain": [
       "array([700, 730, 760, 800, 850, 875], dtype=uint16)"
      ]
     },
     "execution_count": 6,
     "metadata": {},
     "output_type": "execute_result"
    }
   ],
   "source": [
    "# Get list of Wavelengths\n",
    "signal.Wavelength"
   ]
  },
  {
   "cell_type": "code",
   "execution_count": 7,
   "id": "2014a5ca-27bb-4321-829d-b11f830b64b4",
   "metadata": {},
   "outputs": [
    {
     "data": {
      "text/plain": [
       "array([14.382823, 14.985857, 15.584891, 16.175924, 16.801962, 17.387995],\n",
       "      dtype=float32)"
      ]
     },
     "execution_count": 7,
     "metadata": {},
     "output_type": "execute_result"
    }
   ],
   "source": [
    "# Get time points relative to start of acquisition\n",
    "signal.RelTime"
   ]
  },
  {
   "cell_type": "code",
   "execution_count": 8,
   "id": "89bcb111-c045-4e8c-a60a-56aaf1aa73a7",
   "metadata": {},
   "outputs": [
    {
     "data": {
      "image/png": "[encoded data removed]",
      "text/plain": [
       "<Figure size 432x288 with 1 Axes>"
      ]
     },
     "metadata": {
      "needs_background": "light"
     },
     "output_type": "display_data"
    }
   ],
   "source": [
    "# ** Plot one signal matrix from the third wavelength (760 nm)\n",
    "subsig = signal[0, 2, :, :]\n",
    "plt.imshow(subsig)\n",
    "plt.show()"
   ]
  },
  {
   "cell_type": "code",
   "execution_count": 9,
   "id": "1acd9281-bf5a-41f4-a1c4-ab2142ed2d97",
   "metadata": {},
   "outputs": [
    {
     "name": "stdout",
     "output_type": "stream",
     "text": [
      "(6, 256, 2030)\n"
     ]
    },
    {
     "data": {
      "text/plain": [
       "array([[[33558, 33572, 33576, ..., 33423, 33386, 33405],\n",
       "        [34397, 34406, 34405, ..., 34371, 34218, 34160],\n",
       "        [33421, 33447, 33450, ..., 32956, 32835, 32790],\n",
       "        ...,\n",
       "        [33589, 33596, 33588, ..., 33352, 33192, 33101],\n",
       "        [34763, 34777, 34767, ..., 34790, 34637, 34512],\n",
       "        [33824, 33825, 33806, ..., 33373, 33226, 33188]],\n",
       "\n",
       "       [[33803, 33801, 33822, ..., 33513, 33448, 33512],\n",
       "        [34572, 34587, 34606, ..., 34444, 34254, 34148],\n",
       "        [33617, 33615, 33621, ..., 32902, 32813, 32898],\n",
       "        ...,\n",
       "        [33350, 33333, 33352, ..., 33381, 33345, 33292],\n",
       "        [34557, 34570, 34573, ..., 34992, 34811, 34606],\n",
       "        [33594, 33592, 33601, ..., 33632, 33432, 33354]],\n",
       "\n",
       "       [[33828, 33825, 33787, ..., 33523, 33420, 33395],\n",
       "        [34526, 34547, 34562, ..., 34383, 34151, 34040],\n",
       "        [33605, 33613, 33624, ..., 32829, 32652, 32685],\n",
       "        ...,\n",
       "        [33726, 33753, 33718, ..., 33344, 33245, 33245],\n",
       "        [34816, 34827, 34833, ..., 34829, 34741, 34621],\n",
       "        [33968, 33976, 33960, ..., 33603, 33479, 33406]],\n",
       "\n",
       "       [[33635, 33638, 33651, ..., 33654, 33604, 33521],\n",
       "        [34437, 34414, 34407, ..., 34443, 34289, 34131],\n",
       "        [33491, 33470, 33451, ..., 33014, 32844, 32849],\n",
       "        ...,\n",
       "        [33578, 33546, 33538, ..., 33597, 33511, 33472],\n",
       "        [34706, 34687, 34664, ..., 35101, 34986, 34837],\n",
       "        [33752, 33795, 33792, ..., 33906, 33826, 33730]],\n",
       "\n",
       "       [[33730, 33722, 33738, ..., 33622, 33656, 33741],\n",
       "        [34461, 34483, 34486, ..., 34558, 34448, 34421],\n",
       "        [33482, 33492, 33522, ..., 33176, 33117, 33135],\n",
       "        ...,\n",
       "        [33649, 33651, 33638, ..., 33416, 33398, 33395],\n",
       "        [34732, 34735, 34754, ..., 34814, 34825, 34740],\n",
       "        [33825, 33823, 33799, ..., 33615, 33578, 33509]],\n",
       "\n",
       "       [[33679, 33687, 33692, ..., 33592, 33587, 33662],\n",
       "        [34528, 34512, 34487, ..., 34447, 34431, 34399],\n",
       "        [33613, 33610, 33602, ..., 33304, 33190, 33190],\n",
       "        ...,\n",
       "        [33467, 33461, 33480, ..., 33213, 33131, 33099],\n",
       "        [34651, 34662, 34643, ..., 34451, 34502, 34494],\n",
       "        [33739, 33704, 33680, ..., 33462, 33403, 33376]]], dtype=uint16)"
      ]
     },
     "execution_count": 9,
     "metadata": {},
     "output_type": "execute_result"
    }
   ],
   "source": [
    "# ** Transform to regular numpy array (removes additional attributes)\n",
    "# NOTE: iSignal behaves like a numpy array in all respects, so can be used \n",
    "# for any calculations just like a plain array. Still, the below is necessary \n",
    "# for some functions\n",
    "myarray = np.squeeze(signal.view(np.ndarray))\n",
    "print(myarray.shape)\n",
    "myarray"
   ]
  },
  {
   "cell_type": "code",
   "execution_count": 10,
   "id": "87ad55b3-83d3-4205-9a2b-70a248c56f86",
   "metadata": {},
   "outputs": [
    {
     "name": "stdout",
     "output_type": "stream",
     "text": [
      "(256, 3)\n"
     ]
    }
   ],
   "source": [
    "# ** Detector positions# This might be relevant for reconstruction:\n",
    "senspos = scan.Probe.get_sensors()\n",
    "print(senspos.shape)"
   ]
  },
  {
   "cell_type": "code",
   "execution_count": null,
   "id": "4adebfbd-0026-402b-b71c-5116a99ac815",
   "metadata": {},
   "outputs": [],
   "source": []
  }
 ],
 "metadata": {
  "kernelspec": {
   "display_name": "iTheraPY_v1.0.30",
   "language": "python",
   "name": "itherapy_v1.0.30"
  },
  "language_info": {
   "codemirror_mode": {
    "name": "ipython",
    "version": 3
   },
   "file_extension": ".py",
   "mimetype": "text/x-python",
   "name": "python",
   "nbconvert_exporter": "python",
   "pygments_lexer": "ipython3",
   "version": "3.8.2"
  }
 },
 "nbformat": 4,
 "nbformat_minor": 5
}
